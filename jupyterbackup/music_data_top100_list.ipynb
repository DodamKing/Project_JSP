{
 "cells": [
  {
   "cell_type": "code",
   "execution_count": 1,
   "id": "0619e072",
   "metadata": {},
   "outputs": [
    {
     "name": "stdout",
     "output_type": "stream",
     "text": [
      "1위 strawberry moon - 아이유(IU)\n",
      "2위 Savage - aespa\n",
      "3위 Upper Side Dreamin’ - ENHYPEN\n",
      "4위 낮 밤 (feat. 박재범) - 이영지\n",
      "5위 나비효과 - 볼빨간사춘기\n",
      "6위 Attention, please! - ENHYPEN\n",
      "7위 너는 내 세상이었어 - 볼빨간사춘기\n",
      "8위 모 아니면 도 (Go Big or Go Home) - ENHYPEN\n",
      "9위 Favorite (Vampire) - NCT 127\n",
      "10위 XOXO - 전소미\n",
      "11위 나 그댈위해 시 한편을 쓰겠어 - 케이시\n",
      "12위 몰랐어 - ENHYPEN\n",
      "13위 Rock with you - 세븐틴(SEVENTEEN)\n",
      "14위 사랑은 늘 도망가 - 임영웅\n",
      "15위 Blockbuster (액션 영화처럼) feat. 연준 of TOMORROW X TOGETHER - ENHYPEN\n",
      "16위 My Universe - Coldplay(콜드플레이)\n",
      "17위 Cold Blooded - 제시(Jessi)\n",
      "18위 그래도 사랑이었잖아 - 거미\n",
      "19위 Tamed-Dashed - ENHYPEN\n",
      "20위 신호등 - 이무진\n",
      "21위 STAY - The Kid LAROI\n",
      "22위 Next Level - aespa\n",
      "23위 우리의 이야기 - 멜로망스(MeloMance)\n",
      "24위 가르치지마 - 에일리(Ailee)\n",
      "25위 나의 첫사랑 - 다비치\n",
      "26위 너를 생각해 - 주시크 (Joosiq)\n",
      "27위 OHAYO MY NIGHT - 디핵(D-Hack)\n",
      "28위 Permission to Dance - 방탄소년단\n",
      "29위 다정히 내 이름을 부르면 - 경서예지\n",
      "30위 낙하 (with 아이유) - AKMU(악뮤)\n",
      "31위 고백 - 멜로망스(MeloMance)\n",
      "32위 Hey Mama (feat. Nicki Minaj, Bebe Rexha & Afrojack) - David Guetta(데이빗 게타)\n",
      "33위 Butter - 방탄소년단\n",
      "34위 찬란한 계절 - 폴킴(Paul Kim)\n",
      "35위 바라만 본다 - MSG워너비(M.O.M)\n",
      "36위 Easy On Me - Adele(아델)\n",
      "37위 GLASSY - 조유리\n",
      "38위 Dynamite - 방탄소년단\n",
      "39위 Queendom - Red Velvet (레드벨벳)\n",
      "40위 Celebrity - 아이유(IU)\n",
      "41위 LOCO - ITZY (있지)\n",
      "42위 Bad Habits - Ed Sheeran(에드 시런)\n",
      "43위 시간을 거슬러 (낮에 뜨는 달 X 케이윌) - 케이윌\n",
      "44위 Peaches (feat. Daniel Caesar, Giveon) - Justin Bieber(저스틴 비버)\n",
      "45위 Weekend - 태연 (TAEYEON)\n",
      "46위 Shivers - Ed Sheeran(에드 시런)\n",
      "47위 색안경 (STEREOTYPE) - STAYC(스테이씨)\n",
      "48위 셔터 (Shutter) - 소란(SORAN)\n",
      "49위 Better - 보아 (BoA)\n",
      "50위 가까운 듯 먼 그대여 - 카더가든\n",
      "51위 Drunk-Dazed - ENHYPEN\n",
      "52위 Black Mamba - aespa\n",
      "53위 Y (Please Tell Me Why) - 프리스타일(Free Style)\n",
      "54위 내 기억 속에 남아 있는 그대 모습은 - 산들\n",
      "55위 FEVER - ENHYPEN\n",
      "56위 라일락 - 아이유(IU)\n",
      "57위 고백 - 장범준\n",
      "58위 그리워 그리워 - 이예준\n",
      "59위 가을 타나 봐 - 이무진\n",
      "60위 헤픈 우연 - 헤이즈(Heize)\n",
      "61위 Blueming - 아이유(IU)\n",
      "62위 내 손을 잡아 - 아이유(IU)\n",
      "63위 가을 우체국 앞에서 - 김대명\n",
      "64위 밤새 니가 내려 - 케이시\n",
      "65위 미워지지가 않아 (Unhateable) - 노을\n",
      "66위 사랑은 언제나 목마르다 (N번째 연애 X 이해리 (다비치)) - 이해리\n",
      "67위 Off My Face - Justin Bieber(저스틴 비버)\n",
      "68위 비와 당신 - 이무진\n",
      "69위 찰나가 영원이 될 때 (The Eternal Moment) - 마크툽(MAKTUB)\n",
      "70위 잊혀진 계절 - 이용\n",
      "71위 산책 - 백예린 (Yerin Baek)\n",
      "72위 To the Moon (Feat. UNEDUCATED KID) - 염따\n",
      "73위 벌써 일년 (Drama Ver.) - 미도와 파라솔\n",
      "74위 너의 그 사람 - 박재정\n",
      "75위 바래 - HYNN(박혜원)\n",
      "76위 어푸 (Ah puh) - 아이유(IU)\n",
      "77위 Face ID (Feat. 기리보이, Sik-K, JUSTHIS) - 에픽하이 (EPIK HIGH)\n",
      "78위 Dun Dun Dance - 오마이걸(OH MY GIRL)\n",
      "79위 If I Can Go Back - San E(산이)\n",
      "80위 Antifreeze - 백예린 (Yerin Baek)\n",
      "81위 ASAP - STAYC(스테이씨)\n",
      "82위 싹둑 (Love Cut) - 씨엔블루(CNBLUE)\n",
      "83위 DUMB DUMB - 전소미\n",
      "84위 별빛 같은 나의 사랑아 - 임영웅\n",
      "85위 사랑했던 우리가 어떻게 친구가 되니 - 송하예\n",
      "86위 Lovesick Girls - BLACKPINK\n",
      "87위 Loving You Girl (feat. Hkeem) - Peder Elias\n",
      "88위 The Feels - TWICE (트와이스)\n",
      "89위 고백 - 신용재 (2F)\n",
      "90위 The Youngest Day - 김나영\n",
      "91위 바람 - 최유리\n",
      "92위 비가 오는 날엔 (2021) - 헤이즈(Heize)\n",
      "93위 좋아좋아 - 조정석\n",
      "94위 롤린 (Rollin') - 브레이브걸스(Brave Girls)\n",
      "95위 문득 - BE'O (비오)\n",
      "96위 에잇(Prod.&Feat. SUGA of BTS) - 아이유(IU)\n",
      "97위 Savage Love (Laxed - Siren Beat) (BTS Remix) - Jawsh 685\n",
      "98위 한계 - 백예린 (Yerin Baek)\n",
      "99위 어떻게 이별까지 사랑하겠어, 널 사랑하는 거지 - AKMU(악뮤)\n",
      "100위 헤어지지 말자 그럴걸 - 스윗소로우(SWEET SORROW)\n"
     ]
    }
   ],
   "source": [
    "import requests\n",
    "from bs4 import BeautifulSoup\n",
    "\n",
    "data = requests.get('https://music.bugs.co.kr/chart')\n",
    "soup = BeautifulSoup(data.text, 'html.parser')\n",
    "rank_lists = soup.select('.list>tbody>tr')\n",
    "\n",
    "top100 = []\n",
    "titles = soup.select('p.title')\n",
    "artists = soup.select('p.artist')\n",
    "for i in range(100):\n",
    "    title = titles[i].text.strip().split('\\n')[0]\n",
    "    artist = artists[i].text.strip().split('\\n')[0]\n",
    "    print('{}위 {} - {}'.format(i+1, title, artist))\n",
    "    \n",
    "    top100.append([titles[i].text.strip().split('\\n')[0], artists[i].text.strip().split('\\n')[0]])"
   ]
  },
  {
   "cell_type": "code",
   "execution_count": 4,
   "id": "be980d5a",
   "metadata": {
    "scrolled": false
   },
   "outputs": [
    {
     "name": "stdout",
     "output_type": "stream",
     "text": [
      "[['Savage', 'aespa'], ['Cold Blooded', '제시(Jessi)'], ['찬란한 계절', '폴킴(Paul Kim)'], ['My Universe', 'Coldplay(콜드플레이)'], ['밤새 니가 내려', '케이시'], ['사랑은 늘 도망가', '임영웅'], ['STAY', 'The Kid LAROI'], ['Hey Mama (feat. Nicki Minaj, Bebe Rexha & Afrojack)', 'David Guetta(데이빗 게타)'], ['Next Level', 'aespa'], ['낙하 (with 아이유)', 'AKMU(악뮤)'], ['가을 타나 봐', '이무진'], ['OHAYO MY NIGHT', '디핵(D-Hack)'], ['신호등', '이무진'], ['내 기억 속에 남아 있는 그대 모습은', '산들'], ['LOCO', 'ITZY (있지)'], ['Butter', '방탄소년단'], ['다정히 내 이름을 부르면', '경서예지'], ['Permission to Dance', '방탄소년단'], ['사랑은 언제나 목마르다 (N번째 연애 X 이해리 (다비치))', '이해리'], ['너를 생각해', '주시크 (Joosiq)'], ['바래', 'HYNN(박혜원)'], ['시간을 거슬러 (낮에 뜨는 달 X 케이윌)', '케이윌'], ['DUMB DUMB', '전소미'], ['Weekend', '태연 (TAEYEON)'], ['Bad Habits', 'Ed Sheeran(에드 시런)'], ['산책', '백예린 (Yerin Baek)'], ['헤픈 우연', '헤이즈(Heize)'], ['끝이라고 말할 것 같았어 (Too Late)', '황치열'], ['Peaches (feat. Daniel Caesar, Giveon)', 'Justin Bieber(저스틴 비버)'], ['바라만 본다', 'MSG워너비(M.O.M)'], ['Queendom', 'Red Velvet (레드벨벳)'], ['Better', '보아 (BoA)'], ['별빛 같은 나의 사랑아', '임영웅'], ['Dynamite', '방탄소년단'], ['색안경 (STEREOTYPE)', 'STAYC(스테이씨)'], ['빨간 립스틱 (Feat. 윤미래)', '이하이'], ['The Feels', 'TWICE (트와이스)'], ['비가 오는 날엔 (2021)', '헤이즈(Heize)'], ['고백', '멜로망스(MeloMance)'], ['Loving You Girl (feat. Hkeem)', 'Peder Elias'], ['좋아좋아', '조정석'], ['긴 잠', '이수 (엠씨더맥스)'], ['ASAP', 'STAYC(스테이씨)'], ['Off My Face', 'Justin Bieber(저스틴 비버)'], ['라일락', '아이유(IU)'], ['Antifreeze', '백예린 (Yerin Baek)'], ['Kiss Me More (feat. SZA)', 'Doja Cat(도자 캣)'], ['Lovesick Girls', 'BLACKPINK'], ['Black Mamba', 'aespa'], ['안녕이란 (Two Letters)', '황치열'], ['가까운 듯 먼 그대여', '카더가든'], ['PING PONG', '현아&던'], ['신촌을 못가', '허각'], ['Shivers', 'Ed Sheeran(에드 시런)'], ['바람', '최유리'], ['Dun Dun Dance', '오마이걸(OH MY GIRL)'], ['고백', '장범준'], ['어떻게 이별까지 사랑하겠어, 널 사랑하는 거지', 'AKMU(악뮤)'], ['한계', '백예린 (Yerin Baek)'], [\"롤린 (Rollin')\", '브레이브걸스(Brave Girls)'], ['비와 당신', '이무진'], ['찰나가 영원이 될 때 (The Eternal Moment)', '마크툽(MAKTUB)'], ['고백', '10CM'], ['벌써 일년 (Drama Ver.)', '미도와 파라솔'], ['Celebrity', '아이유(IU)'], ['어푸 (Ah puh)', '아이유(IU)'], ['이젠 잊기로 해요 (Drama Ver.)', '미도와 파라솔'], ['내 손을 잡아', '아이유(IU)'], ['흔들리는 꽃들 속에서 네 샴푸향이 느껴진거야', '장범준'], ['가을 우체국 앞에서', '김대명'], ['Butterfly', '전미도'], ['Blueming', '아이유(IU)'], ['Savage Love (Laxed - Siren Beat) (BTS Remix)', 'Jawsh 685'], ['YEPPI YEPPI', 'aespa'], ['로맨틱 선데이', '카더가든'], ['Alcohol-Free', 'TWICE (트와이스)'], ['Here Always (승민 of Stray Kids)', 'Stray Kids (스트레이 키즈)'], ['Tamed-Dashed', 'ENHYPEN'], ['에잇(Prod.&Feat. SUGA of BTS)', '아이유(IU)'], ['언젠가는', '미도와 파라솔'], ['Sticker', 'NCT 127'], ['비 오는 날 듣기 좋은 노래 (Feat. Colde)', '에픽하이 (EPIK HIGH)'], ['하루만 더', '빅마마(Big Mama)'], ['이제 나만 믿어요', '임영웅'], ['그린라이트 (UKG REMIX)', '트로이(범키, 칸토, 재웅, 창우)'], ['Timeless', 'SG워너비'], ['GLASSY', '조유리'], ['그림자 사랑', 'SUPER JUNIOR-K.R.Y. (슈퍼주니어-K.R.Y.)'], ['운전만해 (We Ride)', '브레이브걸스(Brave Girls)'], ['BAD LOVE', '키 (KEY)'], ['고백', '어반자카파'], ['상상더하기', '라붐(LABOUM)'], ['a castle by the sea', 'Powfu'], ['Pretty Savage', 'BLACKPINK'], ['마.피.아. In the morning', 'ITZY (있지)'], ['그럴때마다', '백예린 (Yerin Baek)'], ['At My Worst', 'Pink Sweat$'], ['안녕 (Hello)', '조이 (JOY)'], ['Upper Side Dreamin’', 'ENHYPEN'], ['여전히 아름다운지', '세븐틴(SEVENTEEN)']]\n"
     ]
    }
   ],
   "source": [
    "print(top100)"
   ]
  },
  {
   "cell_type": "code",
   "execution_count": null,
   "id": "c7834d66",
   "metadata": {},
   "outputs": [],
   "source": []
  }
 ],
 "metadata": {
  "interpreter": {
   "hash": "b3ba2566441a7c06988d0923437866b63cedc61552a5af99d1f4fb67d367b25f"
  },
  "kernelspec": {
   "display_name": "Python 3.8.8 64-bit ('base': conda)",
   "name": "python3"
  },
  "language_info": {
   "codemirror_mode": {
    "name": "ipython",
    "version": 3
   },
   "file_extension": ".py",
   "mimetype": "text/x-python",
   "name": "python",
   "nbconvert_exporter": "python",
   "pygments_lexer": "ipython3",
   "version": "3.8.8"
  }
 },
 "nbformat": 4,
 "nbformat_minor": 5
}
