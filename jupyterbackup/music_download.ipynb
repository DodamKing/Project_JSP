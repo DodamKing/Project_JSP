{
 "cells": [
  {
   "cell_type": "code",
   "execution_count": 1,
   "id": "4f7bfd15",
   "metadata": {
    "scrolled": false
   },
   "outputs": [],
   "source": [
    "import requests\n",
    "from bs4 import BeautifulSoup as bs\n",
    "\n",
    "header = {'User-Agent': 'Mozilla/5.0 (Windows NT 6.3; Trident/7.0; rv:11.0) like Gecko'}\n",
    "data = requests.get('https://www.melon.com/chart/index.htm', headers = header)\n",
    "soup = bs(data.text, 'html.parser')\n",
    "\n",
    "titles = soup.select('table tr td .rank01 a')\n",
    "\n",
    "title_list = []\n",
    "\n",
    "for i in range(100):\n",
    "    title_list.append(titles[i].text)\n"
   ]
  },
  {
   "cell_type": "code",
   "execution_count": 2,
   "id": "5a771f77",
   "metadata": {},
   "outputs": [],
   "source": [
    "a = []\n",
    "artist_list = []\n",
    "\n",
    "artists = soup.select('table tr td .rank02')\n",
    "for i in range(100):\n",
    "    artist = artists[i].select('a')\n",
    "    num = int(len(artist)/2)\n",
    "    for j in range(num):\n",
    "        a.append(artist[j].text)\n",
    "    artist_list.append(a)\n",
    "    a = []"
   ]
  },
  {
   "cell_type": "code",
   "execution_count": 18,
   "id": "28d55088",
   "metadata": {},
   "outputs": [
    {
     "name": "stdout",
     "output_type": "stream",
     "text": [
      "aespa\n",
      "The Kid LAROI\n",
      "이무진\n",
      "Coldplay\n",
      "임영웅\n",
      "aespa\n",
      "디핵 (D-Hack)\n",
      "AKMU (악뮤)\n",
      "경서예지\n",
      "방탄소년단\n"
     ]
    }
   ],
   "source": [
    "for i in range(10):\n",
    "    print(artist_list[i][0])"
   ]
  },
  {
   "cell_type": "code",
   "execution_count": 3,
   "id": "4a80a902",
   "metadata": {},
   "outputs": [],
   "source": [
    "from selenium import webdriver\n",
    "import time\n",
    "from bs4 import BeautifulSoup as bs\n",
    "import pandas as pd\n",
    "from selenium.webdriver.common.keys import Keys\n",
    "\n",
    "ut_url_list = []\n",
    "\n",
    "driver = webdriver.Chrome('chromedriver.exe')\n",
    "for i in range(100):\n",
    "    keyword = '{} - {}'.format(title_list[i], artist_list[i][0])\n",
    "    url = 'https://www.youtube.com/results?search_query={} official'.format(keyword)\n",
    "    \n",
    "    driver.get(url)\n",
    "    soup = bs(driver.page_source, 'html.parser')\n",
    "    html = soup.select('a#video-title')[0]\n",
    "    video_url ='https://www.youtube.com' + html.get('href')\n",
    "    ut_url_list.append(video_url)\n",
    "driver.close()"
   ]
  },
  {
   "cell_type": "code",
   "execution_count": null,
   "id": "1797f335",
   "metadata": {},
   "outputs": [
    {
     "name": "stdout",
     "output_type": "stream",
     "text": [
      "Savage - aespa is already exist\n",
      "STAY - The Kid LAROI is already exist\n",
      "사랑은 늘 도망가 - 임영웅 is already exist\n",
      "신호등 - 이무진 is already exist\n",
      "My Universe - Coldplay is already exist\n",
      "Next Level - aespa is already exist\n",
      "OHAYO MY NIGHT - 디핵 (D-Hack) is already exist\n",
      "낙하 (with 아이유) - AKMU (악뮤) is already exist\n",
      "Permission to Dance - 방탄소년단 is already exist\n",
      "다정히 내 이름을 부르면 - 경서예지 is already exist\n",
      "Butter - 방탄소년단 is already exist\n"
     ]
    }
   ],
   "source": [
    "from pytube import YouTube\n",
    "import time\n",
    "import os\n",
    "for i in range(100):\n",
    "    keyword = '{} - {}'.format(title_list[i], artist_list[i][0])\n",
    "    \n",
    "    if os.path.exists('music_db\\\\' + keyword + '.mp3'):\n",
    "        print(keyword + ' is already exist')\n",
    "        pass\n",
    "    else:\n",
    "        ut = YouTube(ut_url_list[i])\n",
    "        audio = ut.streams.get_by_itag(140)\n",
    "        audio.download('music_db', keyword + '.mp3')\n",
    "        time.sleep(2)"
   ]
  },
  {
   "cell_type": "code",
   "execution_count": 4,
   "id": "c33e1445",
   "metadata": {
    "collapsed": true
   },
   "outputs": [
    {
     "data": {
      "text/plain": [
       "['https://www.youtube.com/watch?v=WPdWvnAAurg',\n",
       " 'https://www.youtube.com/watch?v=kTJczUoc26U',\n",
       " 'https://www.youtube.com/watch?v=0ccff10h7y4',\n",
       " 'https://www.youtube.com/watch?v=SK6Sm2Ki9tI',\n",
       " 'https://www.youtube.com/watch?v=3YqPKLZF_WU',\n",
       " 'https://www.youtube.com/watch?v=4TWR90KJl84',\n",
       " 'https://www.youtube.com/watch?v=N6ElB8ysTXM',\n",
       " 'https://www.youtube.com/watch?v=EtiPbWzUY9o',\n",
       " 'https://www.youtube.com/watch?v=kSzraUekkNE',\n",
       " 'https://www.youtube.com/watch?v=CuklIb9d3fI',\n",
       " 'https://www.youtube.com/watch?v=b_6EfFZyBxY',\n",
       " 'https://www.youtube.com/watch?v=-rM5JjNfPHA',\n",
       " 'https://www.youtube.com/watch?v=WMweEpGlu_U',\n",
       " 'https://www.youtube.com/watch?v=RmuL-BPFi2Q',\n",
       " 'https://www.youtube.com/watch?v=tQ0yjYUFKAE',\n",
       " 'https://www.youtube.com/watch?v=oQW9lY1ZAJA',\n",
       " 'https://www.youtube.com/watch?v=mqOFDVH2cOI',\n",
       " 'https://www.youtube.com/watch?v=8aCRNWFY8nc',\n",
       " 'https://www.youtube.com/watch?v=gdZLi9oWNZg',\n",
       " 'https://www.youtube.com/watch?v=NEAwZaYIQ4A',\n",
       " 'https://www.youtube.com/watch?v=orJSJGHjBLI',\n",
       " 'https://www.youtube.com/watch?v=AJPLgrfBiBo',\n",
       " 'https://www.youtube.com/watch?v=k9CuC0OkK4I',\n",
       " 'https://www.youtube.com/watch?v=fTYECl8fF_U',\n",
       " 'https://www.youtube.com/watch?v=yXz47iRuD0Y',\n",
       " 'https://www.youtube.com/watch?v=KsIePUAJffA',\n",
       " 'https://www.youtube.com/watch?v=poiZpOXZXN8',\n",
       " 'https://www.youtube.com/watch?v=zeI1RXSK1YY',\n",
       " 'https://www.youtube.com/watch?v=IgPcbE--mMA',\n",
       " 'https://www.youtube.com/watch?v=c9RzZpV460k',\n",
       " 'https://www.youtube.com/watch?v=tg2uF3R_Ozo',\n",
       " 'https://www.youtube.com/watch?v=v7bnOxV4jAc',\n",
       " 'https://www.youtube.com/watch?v=WHkQtNBCRQo',\n",
       " 'https://www.youtube.com/watch?v=0-q1KafFCLU',\n",
       " 'https://www.youtube.com/watch?v=3cZrxpK2EAQ',\n",
       " 'https://www.youtube.com/watch?v=edbIsqPlJ8w',\n",
       " 'https://www.youtube.com/watch?v=Bbl3qPS9x4o',\n",
       " 'https://www.youtube.com/watch?v=whK76qD2e6E',\n",
       " 'https://www.youtube.com/watch?v=ENjrJ_zyeUc',\n",
       " 'https://www.youtube.com/watch?v=Ja0MZQOWl1w',\n",
       " 'https://www.youtube.com/watch?v=fOdML_XhHvQ',\n",
       " 'https://www.youtube.com/watch?v=HzOjwL7IP_o',\n",
       " 'https://www.youtube.com/watch?v=tL7HKKEoW1Y',\n",
       " 'https://www.youtube.com/watch?v=qvu4nPMyl3U',\n",
       " 'https://www.youtube.com/watch?v=MjCZfZfucEc',\n",
       " 'https://www.youtube.com/watch?v=_X3r09dgbQg',\n",
       " 'https://www.youtube.com/watch?v=5YQww_vbNTU',\n",
       " 'https://www.youtube.com/watch?v=XsX3ATc3FbA',\n",
       " 'https://www.youtube.com/watch?v=xEeFrLSkMm8',\n",
       " 'https://www.youtube.com/watch?v=3iM_06QeZi8',\n",
       " 'https://www.youtube.com/watch?v=khGHeUaJRjw',\n",
       " 'https://www.youtube.com/watch?v=m3DZsBw5bnE',\n",
       " 'https://www.youtube.com/watch?v=woqsqEwvcf0',\n",
       " 'https://www.youtube.com/watch?v=NuTNPV72rFo',\n",
       " 'https://www.youtube.com/watch?v=dyRsYk0LyA8',\n",
       " 'https://www.youtube.com/watch?v=cCyJNklLauw',\n",
       " 'https://www.youtube.com/watch?v=NB8LX6A5BBM',\n",
       " 'https://www.youtube.com/watch?v=-5q5mZbe3V8',\n",
       " 'https://www.youtube.com/watch?v=1q_t6RNuH8c',\n",
       " 'https://www.youtube.com/watch?v=uO59tfQ2TbA',\n",
       " 'https://www.youtube.com/watch?v=d2ytH5mymWY',\n",
       " 'https://www.youtube.com/watch?v=D1PvIWdJ8xo',\n",
       " 'https://www.youtube.com/watch?v=dmSUBdk4SY4',\n",
       " 'https://www.youtube.com/watch?v=3DOkxQ3HDXE',\n",
       " 'https://www.youtube.com/watch?v=JR-wv5fOJEY',\n",
       " 'https://www.youtube.com/watch?v=1JHOl9CSmXk',\n",
       " 'https://www.youtube.com/watch?v=In8qEuG8YPE',\n",
       " 'https://www.youtube.com/watch?v=lNvBbh5jDcA',\n",
       " 'https://www.youtube.com/watch?v=j_Wobf3NBJ4',\n",
       " 'https://www.youtube.com/watch?v=e70PkoJhQYM',\n",
       " 'https://www.youtube.com/watch?v=H23rF-rlxD4',\n",
       " 'https://www.youtube.com/watch?v=4HjcypoChfQ',\n",
       " 'https://www.youtube.com/watch?v=689GoEBjMhY',\n",
       " 'https://www.youtube.com/watch?v=xR-M7mfph_I',\n",
       " 'https://www.youtube.com/watch?v=TgOu00Mf3kI',\n",
       " 'https://www.youtube.com/watch?v=Il-an3K9pjg',\n",
       " 'https://www.youtube.com/watch?v=XA2YEHn-A8Q',\n",
       " 'https://www.youtube.com/watch?v=lOrU0MH0bMk',\n",
       " 'https://www.youtube.com/watch?v=7n9D8ZeOQv0',\n",
       " 'https://www.youtube.com/watch?v=m0o7fbNKhpM',\n",
       " 'https://www.youtube.com/watch?v=Xxz4uZKbZYQ',\n",
       " 'https://www.youtube.com/watch?v=4OWRJ8Hnkz4',\n",
       " 'https://www.youtube.com/watch?v=GhWnG7YhcEE',\n",
       " 'https://www.youtube.com/watch?v=XnmJPBE2Dfs',\n",
       " 'https://www.youtube.com/watch?v=0CS8qFgFHxU',\n",
       " 'https://www.youtube.com/watch?v=X3PFu82F_S8',\n",
       " 'https://www.youtube.com/watch?v=oaRTMjLdiDw',\n",
       " 'https://www.youtube.com/watch?v=lRLA84NoIKw',\n",
       " 'https://www.youtube.com/watch?v=e9oe7XTbzsQ',\n",
       " 'https://www.youtube.com/watch?v=GLlP-CNlY9I',\n",
       " 'https://www.youtube.com/watch?v=vG-eU_jbknQ',\n",
       " 'https://www.youtube.com/watch?v=FCZJVWFbO5Y',\n",
       " 'https://www.youtube.com/watch?v=Yp_6H788zyY',\n",
       " 'https://www.youtube.com/watch?v=1oYWnbTSang',\n",
       " 'https://www.youtube.com/watch?v=ck538udT0b8',\n",
       " 'https://www.youtube.com/watch?v=sa0GsTFI7_o',\n",
       " 'https://www.youtube.com/watch?v=87E6ES3OtHI',\n",
       " 'https://www.youtube.com/watch?v=ltAZkRW4oLg',\n",
       " 'https://www.youtube.com/watch?v=pn6qUkRvlN8',\n",
       " 'https://www.youtube.com/watch?v=26YwXUcUf4I']"
      ]
     },
     "execution_count": 4,
     "metadata": {},
     "output_type": "execute_result"
    }
   ],
   "source": [
    "ut_url_list"
   ]
  }
 ],
 "metadata": {
  "kernelspec": {
   "display_name": "Python 3",
   "language": "python",
   "name": "python3"
  },
  "language_info": {
   "codemirror_mode": {
    "name": "ipython",
    "version": 3
   },
   "file_extension": ".py",
   "mimetype": "text/x-python",
   "name": "python",
   "nbconvert_exporter": "python",
   "pygments_lexer": "ipython3",
   "version": "3.8.8"
  }
 },
 "nbformat": 4,
 "nbformat_minor": 5
}
