{
 "cells": [
  {
   "cell_type": "code",
   "execution_count": 1,
   "id": "dc924e20",
   "metadata": {},
   "outputs": [],
   "source": [
    "import requests\n",
    "from bs4 import BeautifulSoup as bs\n",
    "\n",
    "data = requests.get('https://music.bugs.co.kr/chart')\n",
    "soup = bs(data.text, 'html.parser')\n",
    "\n",
    "titles = soup.select('p.title')\n",
    "artists = soup.select('p.artist')\n",
    "imgs = soup.select('.list>tbody>tr')\n",
    "\n",
    "title = []\n",
    "artist = []\n",
    "img = []\n",
    "\n",
    "for i in range(100):\n",
    "    img_url = imgs[i].select('a>img')\n",
    "    \n",
    "    title.append(\" \".join(titles[i].text.split()))\n",
    "    artist.append(artists[i].text.strip().split()[0])\n",
    "    img.append(img_url[0].get('src'))\n",
    "\n",
    "    "
   ]
  },
  {
   "cell_type": "code",
   "execution_count": 111,
   "id": "69c5f243",
   "metadata": {
    "scrolled": true
   },
   "outputs": [],
   "source": [
    "chart = []\n",
    "\n",
    "for i in range(100):\n",
    "    chart.append([title[i], artist[i], img[i]])"
   ]
  },
  {
   "cell_type": "code",
   "execution_count": 2,
   "id": "ab9187a1",
   "metadata": {},
   "outputs": [
    {
     "data": {
      "text/plain": [
       "['https://image.bugsm.co.kr/album/images/50/40662/4066238.jpg?version=20211020063535.0',\n",
       " 'https://image.bugsm.co.kr/album/images/50/204243/20424398.jpg?version=20211015010640.0',\n",
       " 'https://image.bugsm.co.kr/album/images/50/204256/20425653.jpg?version=20211020003234.0',\n",
       " 'https://image.bugsm.co.kr/album/images/50/40666/4066688.jpg?version=20211030065545.0',\n",
       " 'https://image.bugsm.co.kr/album/images/50/40665/4066507.jpg?version=20211027003705.0',\n",
       " 'https://image.bugsm.co.kr/album/images/50/204256/20425653.jpg?version=20211020003234.0',\n",
       " 'https://image.bugsm.co.kr/album/images/50/40665/4066507.jpg?version=20211027003705.0',\n",
       " 'https://image.bugsm.co.kr/album/images/50/204256/20425653.jpg?version=20211020003234.0',\n",
       " 'https://image.bugsm.co.kr/album/images/50/204282/20428261.jpg?version=20211027010045.0',\n",
       " 'https://image.bugsm.co.kr/album/images/50/40667/4066711.jpg?version=20211030065544.0',\n",
       " 'https://image.bugsm.co.kr/album/images/50/40665/4066596.jpg?version=20211029063820.0',\n",
       " 'https://image.bugsm.co.kr/album/images/50/204256/20425653.jpg?version=20211020003234.0',\n",
       " 'https://image.bugsm.co.kr/album/images/50/40664/4066410.jpg?version=20211023065513.0',\n",
       " 'https://image.bugsm.co.kr/album/images/50/40658/4065831.jpg?version=20211011180007.0',\n",
       " 'https://image.bugsm.co.kr/album/images/50/204256/20425653.jpg?version=20211020003234.0',\n",
       " 'https://image.bugsm.co.kr/album/images/50/161839/16183960.jpg?version=20211027010126.0',\n",
       " 'https://image.bugsm.co.kr/album/images/50/204253/20425389.jpg?version=20211013004223.0',\n",
       " 'https://image.bugsm.co.kr/album/images/50/40662/4066259.jpg?version=20211021153516.0',\n",
       " 'https://image.bugsm.co.kr/album/images/50/204256/20425653.jpg?version=20211020003234.0',\n",
       " 'https://image.bugsm.co.kr/album/images/50/40448/4044879.jpg?version=20210515065000.0',\n",
       " 'https://image.bugsm.co.kr/album/images/50/158177/15817728.jpg?version=20210921113538.0',\n",
       " 'https://image.bugsm.co.kr/album/images/50/203973/20397321.jpg?version=20210518110655.0',\n",
       " 'https://image.bugsm.co.kr/album/images/50/204261/20426191.jpg?version=20211016003108.0',\n",
       " 'https://image.bugsm.co.kr/album/images/50/204286/20428606.jpg?version=20211029014913.0',\n",
       " 'https://image.bugsm.co.kr/album/images/50/204264/20426481.jpg?version=20211019004724.0',\n",
       " 'https://image.bugsm.co.kr/album/images/50/40650/4065044.jpg?version=20211001120007.0',\n",
       " 'https://image.bugsm.co.kr/album/images/50/203326/20332694.jpg?version=20210910142734.0',\n",
       " 'https://image.bugsm.co.kr/album/images/50/40553/4055320.jpg?version=20210710065248.0',\n",
       " 'https://image.bugsm.co.kr/album/images/50/40452/4045282.jpg?version=20210927154638.0',\n",
       " 'https://image.bugsm.co.kr/album/images/50/40586/4058623.jpg?version=20210820004709.0',\n",
       " 'https://image.bugsm.co.kr/album/images/50/40643/4064302.jpg?version=20210830063547.0',\n",
       " 'https://image.bugsm.co.kr/album/images/50/4652/465282.jpg?version=20211016002943.0',\n",
       " 'https://image.bugsm.co.kr/album/images/50/203980/20398006.jpg?version=20210605002338.0',\n",
       " 'https://image.bugsm.co.kr/album/images/50/40658/4065800.jpg?version=20211009004847.0',\n",
       " 'https://image.bugsm.co.kr/album/images/50/204054/20405430.jpg?version=20210710002350.0',\n",
       " 'https://image.bugsm.co.kr/album/images/50/40660/4066062.jpg?version=20211016064316.0',\n",
       " 'https://image.bugsm.co.kr/album/images/50/204246/20424634.jpg?version=20211008003509.0',\n",
       " 'https://image.bugsm.co.kr/album/images/50/203449/20344912.jpg?version=20210911004741.0',\n",
       " 'https://image.bugsm.co.kr/album/images/50/204152/20415229.jpg?version=20210818004552.0',\n",
       " 'https://image.bugsm.co.kr/album/images/50/40271/4027185.jpg?version=20210421042904.0',\n",
       " 'https://image.bugsm.co.kr/album/images/50/204225/20422533.jpg?version=20211002011645.0',\n",
       " 'https://image.bugsm.co.kr/album/images/50/157963/15796389.jpg?version=20211029023249.0',\n",
       " 'https://image.bugsm.co.kr/album/images/50/40644/4064420.jpg?version=20210901063705.0',\n",
       " 'https://image.bugsm.co.kr/album/images/50/151758/15175845.jpg?version=20210831004404.0',\n",
       " 'https://image.bugsm.co.kr/album/images/50/204073/20407398.jpg?version=20210708002235.0',\n",
       " 'https://image.bugsm.co.kr/album/images/50/157963/15796389.jpg?version=20211029023249.0',\n",
       " 'https://image.bugsm.co.kr/album/images/50/40646/4064631.jpg?version=20210907063607.0',\n",
       " 'https://image.bugsm.co.kr/album/images/50/40667/4066730.jpg?version=20211101002156.0',\n",
       " 'https://image.bugsm.co.kr/album/images/50/203643/20364322.jpg?version=20201228134731.0',\n",
       " 'https://image.bugsm.co.kr/album/images/50/40641/4064174.jpg?version=20210827010641.0',\n",
       " 'https://image.bugsm.co.kr/album/images/50/203931/20393190.jpg?version=20210520180017.0',\n",
       " 'https://image.bugsm.co.kr/album/images/50/203611/20361192.jpg?version=20201126173950.0',\n",
       " 'https://image.bugsm.co.kr/album/images/50/351/35102.jpg?version=20200121002244.0',\n",
       " 'https://image.bugsm.co.kr/album/images/50/204238/20423867.jpg?version=20211020003028.0',\n",
       " 'https://image.bugsm.co.kr/album/images/50/203931/20393190.jpg?version=20210520180017.0',\n",
       " 'https://image.bugsm.co.kr/album/images/50/40271/4027185.jpg?version=20210421042904.0',\n",
       " 'https://image.bugsm.co.kr/album/images/50/40571/4057104.jpg?version=20210721003412.0',\n",
       " 'https://image.bugsm.co.kr/album/images/50/40665/4066529.jpg?version=20211027063649.0',\n",
       " 'https://image.bugsm.co.kr/album/images/50/204207/20420797.jpg?version=20210915003411.0',\n",
       " 'https://image.bugsm.co.kr/album/images/50/203977/20397734.jpg?version=20210521002943.0',\n",
       " 'https://image.bugsm.co.kr/album/images/50/202860/20286013.jpg?version=20210421045534.0',\n",
       " 'https://image.bugsm.co.kr/album/images/50/2867/286714.jpg?version=20210421040843.0',\n",
       " 'https://image.bugsm.co.kr/album/images/50/204047/20404733.jpg?version=20210702002556.0',\n",
       " 'https://image.bugsm.co.kr/album/images/50/40658/4065853.jpg?version=20211010180020.0',\n",
       " 'https://image.bugsm.co.kr/album/images/50/40665/4066556.jpg?version=20211028063957.0',\n",
       " 'https://image.bugsm.co.kr/album/images/50/40654/4065427.jpg?version=20211015004305.0',\n",
       " 'https://image.bugsm.co.kr/album/images/50/151758/15175845.jpg?version=20210831004404.0',\n",
       " 'https://image.bugsm.co.kr/album/images/50/204032/20403298.jpg?version=20210625004304.0',\n",
       " 'https://image.bugsm.co.kr/album/images/50/40650/4065043.jpg?version=20210919180017.0',\n",
       " 'https://image.bugsm.co.kr/album/images/50/67/6739.jpg?version=20170921013933.0',\n",
       " 'https://image.bugsm.co.kr/album/images/50/204200/20420099.jpg?version=20210917004524.0',\n",
       " 'https://image.bugsm.co.kr/album/images/50/204291/20429141.jpg?version=20211030120018.0',\n",
       " 'https://image.bugsm.co.kr/album/images/50/204120/20412031.jpg?version=20210803003505.0',\n",
       " 'https://image.bugsm.co.kr/album/images/50/40667/4066715.jpg?version=20211031063632.0',\n",
       " 'https://image.bugsm.co.kr/album/images/50/40655/4065539.jpg?version=20211003180017.0',\n",
       " 'https://image.bugsm.co.kr/album/images/50/40271/4027185.jpg?version=20210421042904.0',\n",
       " 'https://image.bugsm.co.kr/album/images/50/204277/20427796.jpg?version=20211026003923.0',\n",
       " 'https://image.bugsm.co.kr/album/images/50/154325/15432584.jpg?version=20210818002433.0',\n",
       " 'https://image.bugsm.co.kr/album/images/50/204287/20428724.jpg?version=20211031180020.0',\n",
       " 'https://image.bugsm.co.kr/album/images/50/204200/20420099.jpg?version=20210917004524.0',\n",
       " 'https://image.bugsm.co.kr/album/images/50/40400/4040011.jpg?version=20210421043058.0',\n",
       " 'https://image.bugsm.co.kr/album/images/50/40662/4066274.jpg?version=20211021063325.0',\n",
       " 'https://image.bugsm.co.kr/album/images/50/40604/4060427.jpg?version=20210803063653.0',\n",
       " 'https://image.bugsm.co.kr/album/images/50/40333/4033380.jpg?version=20210421043008.0',\n",
       " 'https://image.bugsm.co.kr/album/images/50/204278/20427871.jpg?version=20211024002342.0',\n",
       " 'https://image.bugsm.co.kr/album/images/50/203521/20352127.jpg?version=20210428040910.0',\n",
       " 'https://image.bugsm.co.kr/album/images/50/154178/15417837.jpg?version=20210921113556.0',\n",
       " 'https://image.bugsm.co.kr/album/images/50/204239/20423915.jpg?version=20211021003942.0',\n",
       " 'https://image.bugsm.co.kr/album/images/50/40664/4066442.jpg?version=20211025063552.0',\n",
       " 'https://image.bugsm.co.kr/album/images/50/40667/4066733.jpg?version=20211101002205.0',\n",
       " 'https://image.bugsm.co.kr/album/images/50/204224/20422406.jpg?version=20210925180017.0',\n",
       " 'https://image.bugsm.co.kr/album/images/50/204128/20412824.jpg?version=20210903012806.0',\n",
       " 'https://image.bugsm.co.kr/album/images/50/204091/20409151.jpg?version=20210723013036.0',\n",
       " 'https://image.bugsm.co.kr/album/images/50/200852/20085261.jpg?version=20210501000142.0',\n",
       " 'https://image.bugsm.co.kr/album/images/50/203943/20394389.jpg?version=20210502180032.0',\n",
       " 'https://image.bugsm.co.kr/album/images/50/203228/20322838.jpg?version=20210421045829.0',\n",
       " 'https://image.bugsm.co.kr/album/images/50/9969/996909.jpg?version=20201007204337.0',\n",
       " 'https://image.bugsm.co.kr/album/images/50/204200/20420099.jpg?version=20210917004524.0',\n",
       " 'https://image.bugsm.co.kr/album/images/50/202788/20278851.jpg?version=20210727012601.0',\n",
       " 'https://image.bugsm.co.kr/album/images/50/40666/4066691.jpg?version=20211101002159.0']"
      ]
     },
     "execution_count": 2,
     "metadata": {},
     "output_type": "execute_result"
    }
   ],
   "source": [
    "img"
   ]
  },
  {
   "cell_type": "code",
   "execution_count": 113,
   "id": "3df99027",
   "metadata": {},
   "outputs": [],
   "source": [
    "f = open('bugs_top100_data.txt','w')\n",
    "for i in range(100):\n",
    "    f.write(chart[i][0] + ' - ' + chart[i][1] + ' - ' + chart[i][2] + '\\n')\n",
    "    \n",
    "f.close()"
   ]
  }
 ],
 "metadata": {
  "interpreter": {
   "hash": "b3ba2566441a7c06988d0923437866b63cedc61552a5af99d1f4fb67d367b25f"
  },
  "kernelspec": {
   "display_name": "Python 3.8.8 64-bit ('base': conda)",
   "name": "python3"
  },
  "language_info": {
   "codemirror_mode": {
    "name": "ipython",
    "version": 3
   },
   "file_extension": ".py",
   "mimetype": "text/x-python",
   "name": "python",
   "nbconvert_exporter": "python",
   "pygments_lexer": "ipython3",
   "version": "3.8.8"
  }
 },
 "nbformat": 4,
 "nbformat_minor": 5
}
