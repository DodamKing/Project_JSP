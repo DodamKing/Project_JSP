{
 "cells": [
  {
   "cell_type": "code",
   "execution_count": 1,
   "id": "90de95a9",
   "metadata": {},
   "outputs": [
    {
     "name": "stdout",
     "output_type": "stream",
     "text": [
      "Savage https://image.bugsm.co.kr/album/images/50/204243/20424398.jpg?version=20211008003438.0\n",
      "Cold Blooded https://image.bugsm.co.kr/album/images/50/204253/20425389.jpg?version=20211013004223.0\n",
      "My Universe https://image.bugsm.co.kr/album/images/50/161839/16183960.jpg?version=20211013170110.0\n",
      "찬란한 계절 https://image.bugsm.co.kr/album/images/50/40658/4065800.jpg?version=20211009004847.0\n",
      "오늘도 맑음 https://image.bugsm.co.kr/album/images/50/40659/4065991.jpg?version=20211013180003.0\n",
      "STAY https://image.bugsm.co.kr/album/images/50/158177/15817728.jpg?version=20210921113538.0\n",
      "사랑은 늘 도망가 https://image.bugsm.co.kr/album/images/50/40658/4065831.jpg?version=20211011180007.0\n",
      "LOCO https://image.bugsm.co.kr/album/images/50/204225/20422533.jpg?version=20211002011645.0\n",
      "내 기억 속에 남아 있는 그대 모습은 https://image.bugsm.co.kr/album/images/50/204238/20423867.jpg?version=20211007152053.0\n",
      "Hey Mama (feat. Nicki Minaj, Bebe Rexha & Afrojack) https://image.bugsm.co.kr/album/images/50/4652/465282.jpg?version=20210917004330.0\n",
      "Next Level https://image.bugsm.co.kr/album/images/50/203973/20397321.jpg?version=20210518110655.0\n",
      "낙하 (with 아이유) https://image.bugsm.co.kr/album/images/50/40586/4058623.jpg?version=20210820004709.0\n",
      "신호등 https://image.bugsm.co.kr/album/images/50/40448/4044879.jpg?version=20210515065000.0\n",
      "밤새 니가 내려 https://image.bugsm.co.kr/album/images/50/40658/4065853.jpg?version=20211010180020.0\n",
      "사랑은 언제나 목마르다 (N번째 연애 X 이해리 (다비치)) https://image.bugsm.co.kr/album/images/50/40654/4065427.jpg?version=20211008004416.0\n",
      "Queendom https://image.bugsm.co.kr/album/images/50/204152/20415229.jpg?version=20210818004552.0\n",
      "한 걸음씩 멀어지는 너에게 https://image.bugsm.co.kr/album/images/50/40659/4065972.jpg?version=20211013180021.0\n",
      "OHAYO MY NIGHT https://image.bugsm.co.kr/album/images/50/203326/20332694.jpg?version=20210910142734.0\n",
      "색안경 (STEREOTYPE) https://image.bugsm.co.kr/album/images/50/40646/4064631.jpg?version=20210907063607.0\n",
      "The Feels https://image.bugsm.co.kr/album/images/50/204239/20423915.jpg?version=20211006172126.0\n",
      "Midnight (Feat. 개코) https://image.bugsm.co.kr/album/images/50/40659/4065985.jpg?version=20211013180021.0\n",
      "바람 https://image.bugsm.co.kr/album/images/50/204224/20422406.jpg?version=20210925180017.0\n",
      "Permission to Dance https://image.bugsm.co.kr/album/images/50/40553/4055320.jpg?version=20210710065248.0\n",
      "Butter https://image.bugsm.co.kr/album/images/50/203980/20398006.jpg?version=20210605002338.0\n",
      "Weekend https://image.bugsm.co.kr/album/images/50/204073/20407398.jpg?version=20210708002235.0\n",
      "별빛 같은 나의 사랑아 https://image.bugsm.co.kr/album/images/50/40333/4033380.jpg?version=20210421043008.0\n",
      "Blue https://image.bugsm.co.kr/album/images/50/200810/20081010.jpg?version=20200804002909.0\n",
      "BAD LOVE https://image.bugsm.co.kr/album/images/50/204229/20422994.jpg?version=20211008004135.0\n",
      "Better https://image.bugsm.co.kr/album/images/50/203643/20364322.jpg?version=20201228134731.0\n",
      "Bad Habits https://image.bugsm.co.kr/album/images/50/157963/15796389.jpg?version=20211002004925.0\n",
      "가을 타나 봐 https://image.bugsm.co.kr/album/images/50/204207/20420797.jpg?version=20210915003411.0\n",
      "고백 https://image.bugsm.co.kr/album/images/50/40643/4064302.jpg?version=20210830063547.0\n",
      "긴 잠 https://image.bugsm.co.kr/album/images/50/40659/4065989.jpg?version=20211013063639.0\n",
      "가까운 듯 먼 그대여 https://image.bugsm.co.kr/album/images/50/40641/4064174.jpg?version=20210827010641.0\n",
      "Off My Face https://image.bugsm.co.kr/album/images/50/151758/15175845.jpg?version=20210831004404.0\n",
      "다정히 내 이름을 부르면 https://image.bugsm.co.kr/album/images/50/40452/4045282.jpg?version=20210927154638.0\n",
      "끝이라고 말할 것 같았어 (Too Late) https://image.bugsm.co.kr/album/images/50/40648/4064826.jpg?version=20211007003851.0\n",
      "Lovesick Girls https://image.bugsm.co.kr/album/images/50/203521/20352127.jpg?version=20210428040910.0\n",
      "바래 https://image.bugsm.co.kr/album/images/50/40655/4065539.jpg?version=20211003180017.0\n",
      "빨간 립스틱 (Feat. 윤미래) https://image.bugsm.co.kr/album/images/50/204175/20417524.jpg?version=20210916004927.0\n",
      "DUMB DUMB https://image.bugsm.co.kr/album/images/50/40604/4060427.jpg?version=20210803063653.0\n",
      "VIVACE https://image.bugsm.co.kr/album/images/50/40660/4066013.jpg?version=20211013180009.0\n",
      "시간을 거슬러 (낮에 뜨는 달 X 케이윌) https://image.bugsm.co.kr/album/images/50/40644/4064420.jpg?version=20210901063705.0\n",
      "YEPPI YEPPI https://image.bugsm.co.kr/album/images/50/204243/20424398.jpg?version=20211008003438.0\n",
      "ASAP https://image.bugsm.co.kr/album/images/50/40400/4040011.jpg?version=20210421043058.0\n",
      "산책 https://image.bugsm.co.kr/album/images/50/204200/20420099.jpg?version=20210917004524.0\n",
      "Peaches (feat. Daniel Caesar, Giveon) https://image.bugsm.co.kr/album/images/50/151758/15175845.jpg?version=20210831004404.0\n",
      "Black Mamba https://image.bugsm.co.kr/album/images/50/203611/20361192.jpg?version=20201126173950.0\n",
      "바라만 본다 https://image.bugsm.co.kr/album/images/50/204054/20405430.jpg?version=20210710002350.0\n",
      "헤픈 우연 https://image.bugsm.co.kr/album/images/50/203977/20397734.jpg?version=20210521002943.0\n",
      "Dynamite https://image.bugsm.co.kr/album/images/50/203449/20344912.jpg?version=20210911004741.0\n",
      "찰나가 영원이 될 때 (The Eternal Moment) https://image.bugsm.co.kr/album/images/50/40650/4065043.jpg?version=20210919180017.0\n",
      "좋아좋아 https://image.bugsm.co.kr/album/images/50/204091/20409151.jpg?version=20210723013036.0\n",
      "Celebrity https://image.bugsm.co.kr/album/images/50/40271/4027185.jpg?version=20210421042904.0\n",
      "비와 당신 https://image.bugsm.co.kr/album/images/50/204032/20403298.jpg?version=20210625004304.0\n",
      "비가 오는 날엔 (2021) https://image.bugsm.co.kr/album/images/50/204128/20412824.jpg?version=20210903012806.0\n",
      "Antifreeze https://image.bugsm.co.kr/album/images/50/204200/20420099.jpg?version=20210917004524.0\n",
      "너를 생각해 https://image.bugsm.co.kr/album/images/50/40650/4065044.jpg?version=20211001120007.0\n",
      "라일락 https://image.bugsm.co.kr/album/images/50/40271/4027185.jpg?version=20210421042904.0\n",
      "살랑살랑 https://image.bugsm.co.kr/album/images/50/204256/20425644.jpg?version=20211013180006.0\n",
      "Dun Dun Dance https://image.bugsm.co.kr/album/images/50/154325/15432584.jpg?version=20210818002433.0\n",
      "내 손을 잡아 https://image.bugsm.co.kr/album/images/50/2867/286714.jpg?version=20210421040843.0\n",
      "고백 https://image.bugsm.co.kr/album/images/50/40652/4065294.jpg?version=20210928205407.0\n",
      "가을 우체국 앞에서 https://image.bugsm.co.kr/album/images/50/204047/20404733.jpg?version=20210702002556.0\n",
      "PING PONG https://image.bugsm.co.kr/album/images/50/40647/4064764.jpg?version=20210910063310.0\n",
      "Loving You Girl (feat. Hkeem) https://image.bugsm.co.kr/album/images/50/154178/15417837.jpg?version=20210921113556.0\n",
      "신촌을 못가 https://image.bugsm.co.kr/album/images/50/40659/4065915.jpg?version=20211013010348.0\n",
      "GLASSY https://image.bugsm.co.kr/album/images/50/204246/20424634.jpg?version=20211008003509.0\n",
      "한계 https://image.bugsm.co.kr/album/images/50/204200/20420099.jpg?version=20210917004524.0\n",
      "고백 https://image.bugsm.co.kr/album/images/50/40571/4057104.jpg?version=20210721003412.0\n",
      "Savage Love (Laxed - Siren Beat) (BTS Remix) https://image.bugsm.co.kr/album/images/50/9969/996909.jpg?version=20201007204337.0\n",
      "이제 나만 믿어요 https://image.bugsm.co.kr/album/images/50/203163/20316388.jpg?version=20210421045752.0\n",
      "에잇(Prod.&Feat. SUGA of BTS) https://image.bugsm.co.kr/album/images/50/203228/20322838.jpg?version=20210421045829.0\n",
      "Blueming https://image.bugsm.co.kr/album/images/50/202860/20286013.jpg?version=20210421045534.0\n",
      "Brand (Feat. 래원 (Layone)) https://image.bugsm.co.kr/album/images/50/203943/20394389.jpg?version=20210502180032.0\n",
      "롤린 (Rollin') https://image.bugsm.co.kr/album/images/50/200852/20085261.jpg?version=20210501000142.0\n",
      "어떻게 이별까지 사랑하겠어, 널 사랑하는 거지 https://image.bugsm.co.kr/album/images/50/202788/20278851.jpg?version=20210727012601.0\n",
      "Tamed-Dashed https://image.bugsm.co.kr/album/images/50/204256/20425653.jpg?version=20211013174835.0\n",
      "Kiss Me More (feat. SZA) https://image.bugsm.co.kr/album/images/50/152867/15286790.jpg?version=20210820004838.0\n",
      "Alcohol-Free https://image.bugsm.co.kr/album/images/50/204017/20401773.jpg?version=20210615002256.0\n",
      "문득 https://image.bugsm.co.kr/album/images/50/203943/20394389.jpg?version=20210502180032.0\n",
      "벌써 일년 (Drama Ver.) https://image.bugsm.co.kr/album/images/50/204120/20412031.jpg?version=20210803003505.0\n",
      "하루만 더 https://image.bugsm.co.kr/album/images/50/40511/4051160.jpg?version=20210625063210.0\n",
      "Shivers https://image.bugsm.co.kr/album/images/50/157963/15796389.jpg?version=20211002004925.0\n",
      "Fish https://image.bugsm.co.kr/album/images/50/204256/20425644.jpg?version=20211013180006.0\n",
      "Butterfly https://image.bugsm.co.kr/album/images/50/204216/20421634.jpg?version=20210918005843.0\n",
      "로맨틱 선데이 https://image.bugsm.co.kr/album/images/50/204190/20419007.jpg?version=20210930004222.0\n",
      "어푸 (Ah puh) https://image.bugsm.co.kr/album/images/50/40271/4027185.jpg?version=20210421042904.0\n",
      "안녕 (Hello) https://image.bugsm.co.kr/album/images/50/203988/20398895.jpg?version=20210608004102.0\n",
      "안녕이란 (Two Letters) https://image.bugsm.co.kr/album/images/50/40390/4039000.jpg?version=20210421043051.0\n",
      "Dolphin https://image.bugsm.co.kr/album/images/50/141168/14116820.jpg?version=20210825004240.0\n",
      "고백 https://image.bugsm.co.kr/album/images/50/40617/4061767.jpg?version=20210812005632.0\n",
      "비 오는 날 듣기 좋은 노래 (Feat. Colde) https://image.bugsm.co.kr/album/images/50/204056/20405637.jpg?version=20210707002257.0\n",
      "My Romance https://image.bugsm.co.kr/album/images/50/204218/20421804.jpg?version=20210919180017.0\n",
      "Fuxk off https://image.bugsm.co.kr/album/images/50/204256/20425644.jpg?version=20211013180006.0\n",
      "언젠가는 https://image.bugsm.co.kr/album/images/50/204216/20421634.jpg?version=20210918005843.0\n",
      "운전만해 (We Ride) https://image.bugsm.co.kr/album/images/50/203439/20343945.jpg?version=20210421050015.0\n",
      "Broken Wings https://image.bugsm.co.kr/album/images/50/40659/4065985.jpg?version=20211013180021.0\n",
      "그럴때마다 https://image.bugsm.co.kr/album/images/50/204200/20420099.jpg?version=20210917004524.0\n",
      "Sticker https://image.bugsm.co.kr/album/images/50/40646/4064626.jpg?version=20210918005239.0\n"
     ]
    }
   ],
   "source": [
    "import requests\n",
    "from bs4 import BeautifulSoup\n",
    "\n",
    "data = requests.get('https://music.bugs.co.kr/chart')\n",
    "soup = BeautifulSoup(data.text, 'html.parser')\n",
    "rank_lists = soup.select('.list>tbody>tr')\n",
    "\n",
    "\n",
    "titles = soup.select('p.title')\n",
    "\n",
    "for i in range(len(rank_lists)):\n",
    "    covers = rank_lists[i].select('a>img')\n",
    "    cover_url = covers[0].get('src')\n",
    "    print(\" \".join(titles[i].text.split()), cover_url)\n",
    "\n",
    "    \n",
    "   "
   ]
  },
  {
   "cell_type": "code",
   "execution_count": 43,
   "id": "6b6cbd37",
   "metadata": {},
   "outputs": [
    {
     "data": {
      "text/plain": [
       "'낙하 (with 아이유)'"
      ]
     },
     "execution_count": 43,
     "metadata": {},
     "output_type": "execute_result"
    }
   ],
   "source": [
    "\" \".join(titles[5].text.split())"
   ]
  },
  {
   "cell_type": "code",
   "execution_count": 27,
   "id": "fac027c6",
   "metadata": {},
   "outputs": [
    {
     "data": {
      "text/plain": [
       "'https://image.bugsm.co.kr/album/images/50/204243/20424398.jpg?version=20211008003438.0'"
      ]
     },
     "execution_count": 27,
     "metadata": {},
     "output_type": "execute_result"
    }
   ],
   "source": [
    "cover[0].get('src')"
   ]
  },
  {
   "cell_type": "code",
   "execution_count": null,
   "id": "af210995",
   "metadata": {},
   "outputs": [],
   "source": []
  }
 ],
 "metadata": {
  "kernelspec": {
   "display_name": "Python 3",
   "language": "python",
   "name": "python3"
  },
  "language_info": {
   "codemirror_mode": {
    "name": "ipython",
    "version": 3
   },
   "file_extension": ".py",
   "mimetype": "text/x-python",
   "name": "python",
   "nbconvert_exporter": "python",
   "pygments_lexer": "ipython3",
   "version": "3.8.8"
  }
 },
 "nbformat": 4,
 "nbformat_minor": 5
}
