{
 "cells": [
  {
   "cell_type": "code",
   "execution_count": 4,
   "id": "0519efbf",
   "metadata": {},
   "outputs": [],
   "source": [
    "# 동영상 url 파싱\n",
    "from selenium import webdriver\n",
    "import time\n",
    "from bs4 import BeautifulSoup as bs\n",
    "import pandas as pd\n",
    "from selenium.webdriver.common.keys import Keys\n",
    "\n",
    "keyword = '하동균 - Here I Am'\n",
    "url = 'https://www.youtube.com/results?search_query={} official'.format(keyword)\n",
    "\n",
    "driver = webdriver.Chrome('chromedriver.exe')\n",
    "driver.get(url)\n",
    "soup = bs(driver.page_source, 'html.parser')\n",
    "driver.close()\n",
    "\n",
    "html = soup.select('a#video-title')[0]\n",
    "video_url ='https://www.youtube.com' + html.get('href')\n"
   ]
  },
  {
   "cell_type": "code",
   "execution_count": 5,
   "id": "52005dcf",
   "metadata": {},
   "outputs": [
    {
     "data": {
      "text/plain": [
       "'https://www.youtube.com/watch?v=bPmS7WnOBNQ'"
      ]
     },
     "execution_count": 5,
     "metadata": {},
     "output_type": "execute_result"
    }
   ],
   "source": [
    "video_url"
   ]
  },
  {
   "cell_type": "code",
   "execution_count": 51,
   "id": "980947e6",
   "metadata": {},
   "outputs": [
    {
     "data": {
      "text/plain": [
       "'C:\\\\Users\\\\김디디\\\\Desktop\\\\주피터\\\\.\\\\savage aespa.mp3'"
      ]
     },
     "execution_count": 51,
     "metadata": {},
     "output_type": "execute_result"
    }
   ],
   "source": [
    "# 음원추출(첫번째 mp4)\n",
    "# 용량이 더 작은데 조금 더 느림\n",
    "# from pytube import YouTube\n",
    "# ut = YouTube(video_url)\n",
    "# ut.streams.filter(only_audio=True).first().download('.',keyword + '.mp3') # 이렇게 하면 바로 확장자 바뀜\n"
   ]
  },
  {
   "cell_type": "code",
   "execution_count": 44,
   "id": "228614af",
   "metadata": {},
   "outputs": [],
   "source": [
    "# mp4 -> mp3 굳이 안해도 되나 싶음\n",
    "import glob\n",
    "# import os.path\n",
    "\n",
    "# files = glob.glob(\"*.mp4\")\n",
    "# for x in files:\n",
    "#     if not os.path.isdir(x):\n",
    "#         filename = os.path.splitext(x)\n",
    "#         try:\n",
    "#             os.rename(x, filename[0] + '.mp3')\n",
    "#         except:\n",
    "#             pass"
   ]
  },
  {
   "cell_type": "code",
   "execution_count": 6,
   "id": "8d380536",
   "metadata": {},
   "outputs": [
    {
     "data": {
      "text/plain": [
       "'D:\\\\주피터\\\\music_db\\\\하동균 - Here I Am.mp3'"
      ]
     },
     "execution_count": 6,
     "metadata": {},
     "output_type": "execute_result"
    }
   ],
   "source": [
    "# 128kbps 음원으로 다운로드\n",
    "# 용량이 조금 더 큰데 조금 더 빠름\n",
    "from pytube import YouTube\n",
    "ut = YouTube(video_url)\n",
    "audio = ut.streams.get_by_itag(140)\n",
    "audio.download('music_db', keyword + '.mp3')"
   ]
  },
  {
   "cell_type": "code",
   "execution_count": null,
   "id": "21f0f5d5",
   "metadata": {},
   "outputs": [],
   "source": []
  }
 ],
 "metadata": {
  "interpreter": {
   "hash": "b3ba2566441a7c06988d0923437866b63cedc61552a5af99d1f4fb67d367b25f"
  },
  "kernelspec": {
   "display_name": "Python 3.8.8 64-bit ('base': conda)",
   "name": "python3"
  },
  "language_info": {
   "codemirror_mode": {
    "name": "ipython",
    "version": 3
   },
   "file_extension": ".py",
   "mimetype": "text/x-python",
   "name": "python",
   "nbconvert_exporter": "python",
   "pygments_lexer": "ipython3",
   "version": "3.8.8"
  }
 },
 "nbformat": 4,
 "nbformat_minor": 5
}
