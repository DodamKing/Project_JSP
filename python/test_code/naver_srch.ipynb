{
 "cells": [
  {
   "cell_type": "code",
   "execution_count": 35,
   "metadata": {},
   "outputs": [],
   "source": [
    "from bs4 import BeautifulSoup as bs\n",
    "from selenium import webdriver\n",
    "import urllib.request\n",
    "import os\n",
    "import re\n"
   ]
  },
  {
   "cell_type": "code",
   "execution_count": 37,
   "metadata": {},
   "outputs": [],
   "source": [
    "\n",
    "title = '푸르른 계절도 내겐 의미 없어요'\n",
    "artist = '정승환'\n",
    "keyword = title + \" \" + artist\n",
    "url = 'http://www.naver.com'\n",
    "driver = webdriver.Chrome('./95/chromedriver.exe')\n",
    "driver.get(url)\n",
    "\n",
    "query = driver.find_element_by_name(\"query\")\n",
    "query.send_keys(keyword)\n",
    "\n"
   ]
  },
  {
   "cell_type": "code",
   "execution_count": 31,
   "metadata": {},
   "outputs": [
    {
     "data": {
      "text/plain": [
       "'https://www.naver.com?where=nexearch&sm=tab_etc&mra=bkhH&x_csa=%7B%22theme%22%3A%22music_top%22%2C%20%22pkid%22%3A%22632%22%7D&pkid=632&os=24944612&qvt=0&query=%ED%91%B8%EB%A5%B4%EB%A5%B8%20%EA%B3%84%EC%A0%88%EB%8F%84%20%EB%82%B4%EA%B2%90%20%EC%9D%98%EB%AF%B8%20%EC%97%86%EC%96%B4%EC%9A%94%20%EA%B3%A1%EC%A0%95%EB%B3%B4'"
      ]
     },
     "execution_count": 31,
     "metadata": {},
     "output_type": "execute_result"
    }
   ],
   "source": [
    "new_url"
   ]
  }
 ],
 "metadata": {
  "interpreter": {
   "hash": "b3ba2566441a7c06988d0923437866b63cedc61552a5af99d1f4fb67d367b25f"
  },
  "kernelspec": {
   "display_name": "Python 3.8.8 64-bit ('base': conda)",
   "language": "python",
   "name": "python3"
  },
  "language_info": {
   "codemirror_mode": {
    "name": "ipython",
    "version": 3
   },
   "file_extension": ".py",
   "mimetype": "text/x-python",
   "name": "python",
   "nbconvert_exporter": "python",
   "pygments_lexer": "ipython3",
   "version": "3.8.8"
  },
  "orig_nbformat": 4
 },
 "nbformat": 4,
 "nbformat_minor": 2
}
