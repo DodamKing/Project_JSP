{
 "cells": [
  {
   "cell_type": "code",
   "execution_count": 1,
   "id": "56adede0",
   "metadata": {},
   "outputs": [],
   "source": [
    "from bs4 import BeautifulSoup as bs\n",
    "from selenium import webdriver"
   ]
  },
  {
   "cell_type": "code",
   "execution_count": 2,
   "id": "518d0593",
   "metadata": {},
   "outputs": [
    {
     "data": {
      "text/plain": [
       "'https://search.naver.com/search.naver?where=nexearch&sm=tab_etc&mra=bkhH&x_csa=%7B%22theme%22%3A%22music_top%22%2C%20%22pkid%22%3A%22632%22%7D&pkid=632&os=16162629&qvt=0&query=Dynamite%20%EA%B3%A1%EC%A0%95%EB%B3%B4'"
      ]
     },
     "execution_count": 2,
     "metadata": {},
     "output_type": "execute_result"
    }
   ],
   "source": [
    "# 검색어로 검색\n",
    "driver = webdriver.Chrome('./95/chromedriver.exe')\n",
    "title = 'Dynamite '\n",
    "artist = '방탄소년단'\n",
    "query = title + ' ' + artist\n",
    "url = 'https://search.naver.com/search.naver?where=nexearch&sm=top_hty&fbm=1&ie=utf8&query='\n",
    "\n",
    "\n",
    "driver.get(url + query)\n",
    "soup = bs(driver.page_source, 'html.parser')\n",
    "html = soup.select('ul.tab_list li.tab a')[1].get('href')\n",
    "key = 'https://search.naver.com/search.naver' + html\n",
    "\n",
    "\n",
    "driver.close()\n",
    "key\n"
   ]
  },
  {
   "cell_type": "code",
   "execution_count": 14,
   "id": "0d7b14b5",
   "metadata": {},
   "outputs": [],
   "source": [
    "# 주소 직접 입력\n",
    "key = 'https://search.naver.com/search.naver?where=nexearch&sm=tab_etc&mra=bkhH&x_csa=%7B%22theme%22%3A%22music_top%22%2C%20%22pkid%22%3A%22632%22%7D&pkid=632&os=24919311&qvt=0&query=P.R.R.W.%20%EA%B3%A1%EC%A0%95%EB%B3%B4' #직접입력\n",
    "driver = webdriver.Chrome('./95/chromedriver.exe')\n",
    "driver.get(key)\n",
    "soup = bs(driver.page_source, 'html.parser')\n",
    "driver.close()"
   ]
  },
  {
   "cell_type": "code",
   "execution_count": 15,
   "id": "ca3071cc",
   "metadata": {},
   "outputs": [],
   "source": [
    "try :\n",
    "    data = soup.select('div.info_group dd')\n",
    "    artist = data[0].text.strip()\n",
    "    album = data[1].text.strip()\n",
    "    releaseDate = data[2].text.strip()\n",
    "    genre = data[3].text.strip()\n",
    "    music = data[4].text.strip()\n",
    "    words = data[5].text.strip()\n",
    "    arranger = data[6].text.strip()\n",
    "    lyrics_data = soup.select_one('p.no_ellipsis')\n",
    "\n",
    "    lyrics = \"\"\n",
    "    no = 0\n",
    "    for item in lyrics_data:\n",
    "        if no % 2 == 0:\n",
    "            lyrics += item.strip()\n",
    "            no += 1\n",
    "        else:\n",
    "            lyrics += '\\n'\n",
    "            no += 1\n",
    "            \n",
    "except :\n",
    "    print('검색 하지 못함')\n",
    "    pass"
   ]
  },
  {
   "cell_type": "code",
   "execution_count": 16,
   "id": "9a615ebe",
   "metadata": {},
   "outputs": [
    {
     "name": "stdout",
     "output_type": "stream",
     "text": [
      "가수(artist) : 윤하\n",
      "album : YOUNHA 6th Album 'END THEORY'\n",
      "발매일(release) : 2021.11.16.\n",
      "장르(genre) : 록/포크(국내)\n",
      "작곡(music) : 윤하, Juno\n",
      "작사(words) : 윤하, James Son\n",
      "편곡(arranger) : Juno\n",
      "가사\n",
      "가지 못해 지난 그 길론\n",
      "움켜쥐지 못해 흘러버릴 뿐\n",
      "지금이 아닌 언젠가를\n",
      "그리워하는 나조차도\n",
      "봐, 그때 내가 아니니\n",
      "I won't know what in the world is going on\n",
      "결국 끝을 향해가는 비극이라도\n",
      "walk and knock the door\n",
      "Tell me how, I'm trying to be a piece of me\n",
      "발맞추는 시간 속에 기록이 있어\n",
      "the process, result and the reason why\n",
      "거기 없어 the process,\n",
      "result and the reason why\n",
      "I was lost without you but it had to\n",
      "거기 없어 the process,\n",
      "result and the reason why\n",
      "someone who tried to stay alive\n",
      "but they're gone out of sight\n",
      "남겨진 내 몫이니까 I'm still being alive\n",
      "걱정을 가장한 거짓들에\n",
      "뒤엉키고 속지 않도록\n",
      "난, 그만 바라보겠어\n",
      "I won't know what in the world is going on\n",
      "결국 끝을 향해가는 비극이라도\n",
      "walk and knock the door\n",
      "Tell me how, I'm trying to be a piece of me\n",
      "발맞추는 시간속에 기록이 있어\n",
      "the process, result and the reason why\n",
      "거기 없어 the process,\n",
      "result and the reason why\n",
      "I was lost without you but it had to\n",
      "거기 없어 the process,\n",
      "result and the reason why\n"
     ]
    }
   ],
   "source": [
    "print('가수(artist) :', artist)\n",
    "print('album :', album)\n",
    "print('발매일(release) :', releaseDate)\n",
    "print('장르(genre) :', genre)\n",
    "print('작곡(music) :', music)\n",
    "print('작사(words) :', words)\n",
    "print('편곡(arranger) :', arranger)\n",
    "print('가사')\n",
    "print(lyrics)"
   ]
  },
  {
   "cell_type": "code",
   "execution_count": 13,
   "id": "ce04259b",
   "metadata": {},
   "outputs": [],
   "source": [
    "import pymysql\n",
    "\n",
    "title = 'P.R.R.W.'\n",
    "artist = '윤하(Younha/ユンナ)'\n",
    "\n",
    "conn = pymysql.connect(host='localhost', user='root',\n",
    "                       password='1234', db='java02_kdd')\n",
    "cursors = conn.cursor()\n",
    "\n",
    "sql = 'update song set album = %s, releaseDate = %s, genre = %s, music = %s, words = %s, arranger = %s, lyrics = %s where title = %s and artist = %s'\n",
    "val = (album, releaseDate, genre, music,\n",
    "        words, arranger, lyrics, title, artist)\n",
    "cursors.execute(sql, val)\n",
    "\n",
    "conn.commit()\n",
    "\n",
    "cursors.close()\n",
    "conn.close()"
   ]
  }
 ],
 "metadata": {
  "kernelspec": {
   "display_name": "Python 3",
   "language": "python",
   "name": "python3"
  },
  "language_info": {
   "codemirror_mode": {
    "name": "ipython",
    "version": 3
   },
   "file_extension": ".py",
   "mimetype": "text/x-python",
   "name": "python",
   "nbconvert_exporter": "python",
   "pygments_lexer": "ipython3",
   "version": "3.8.8"
  }
 },
 "nbformat": 4,
 "nbformat_minor": 5
}
