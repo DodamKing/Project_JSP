{
 "cells": [
  {
   "cell_type": "code",
   "execution_count": 1,
   "id": "56adede0",
   "metadata": {},
   "outputs": [],
   "source": [
    "from bs4 import BeautifulSoup as bs\n",
    "from selenium import webdriver"
   ]
  },
  {
   "cell_type": "code",
   "execution_count": 2,
   "id": "518d0593",
   "metadata": {},
   "outputs": [
    {
     "data": {
      "text/plain": [
       "'https://search.naver.com/search.naver?where=nexearch&sm=tab_etc&mra=bkhH&x_csa=%7B%22theme%22%3A%22music_top%22%2C%20%22pkid%22%3A%22632%22%7D&pkid=632&os=16162629&qvt=0&query=Dynamite%20%EA%B3%A1%EC%A0%95%EB%B3%B4'"
      ]
     },
     "execution_count": 2,
     "metadata": {},
     "output_type": "execute_result"
    }
   ],
   "source": [
    "driver = webdriver.Chrome('./95/chromedriver.exe')\n",
    "title = 'Dynamite '\n",
    "artist = '방탄소년단'\n",
    "query = title + ' ' + artist\n",
    "url = 'https://search.naver.com/search.naver?where=nexearch&sm=top_hty&fbm=1&ie=utf8&query='\n",
    "\n",
    "\n",
    "driver.get(url + query)\n",
    "soup = bs(driver.page_source, 'html.parser')\n",
    "html = soup.select('ul.tab_list li.tab a')[1].get('href')\n",
    "key = 'https://search.naver.com/search.naver' + html\n",
    "\n",
    "\n",
    "driver.close()\n",
    "key\n"
   ]
  },
  {
   "cell_type": "code",
   "execution_count": 3,
   "id": "0d7b14b5",
   "metadata": {},
   "outputs": [],
   "source": [
    "driver = webdriver.Chrome('./95/chromedriver.exe')\n",
    "driver.get(key)\n",
    "soup = bs(driver.page_source, 'html.parser')\n",
    "driver.close()"
   ]
  },
  {
   "cell_type": "code",
   "execution_count": 4,
   "id": "ca3071cc",
   "metadata": {},
   "outputs": [
    {
     "name": "stdout",
     "output_type": "stream",
     "text": [
      "검색 하지 못함\n"
     ]
    }
   ],
   "source": [
    "try :\n",
    "    data = soup.select('div.info_group dd')\n",
    "    artist = data[0].text\n",
    "    album = data[1].text\n",
    "    music = data[2].text\n",
    "    sa = data[3].text\n",
    "    py = data[4].text\n",
    "    date = data[5].text\n",
    "    jan = data[6].text\n",
    "    lyric = soup.select_one('p.no_ellipsis')\n",
    "except :\n",
    "    print('검색 하지 못함')\n",
    "    pass"
   ]
  },
  {
   "cell_type": "code",
   "execution_count": 8,
   "id": "9eabc093",
   "metadata": {},
   "outputs": [
    {
     "data": {
      "text/plain": [
       "6"
      ]
     },
     "execution_count": 8,
     "metadata": {},
     "output_type": "execute_result"
    }
   ],
   "source": [
    "len(data)"
   ]
  },
  {
   "cell_type": "code",
   "execution_count": 48,
   "id": "9a615ebe",
   "metadata": {},
   "outputs": [
    {
     "name": "stdout",
     "output_type": "stream",
     "text": [
      "아티스트 - Adele(아델)\n",
      "앨범 - Guilty Pleasure\n",
      "발매 - 2021.11.24.\n",
      "장르 - 댄스(국내)\n",
      "작곡 -  Gustav Landell, Kristin Carpenter, Simon Jonasson, Musikality \n",
      "작사 -  화사(Hwa Sa), 박우상, 해다영, Gustav Landell, Kristin Carpenter, Simon Jonasson, Musikality \n",
      "편곡 -  Gustav Landell, Simon Jonasson, Musikality \n"
     ]
    }
   ],
   "source": [
    "print('아티스트 - ' + artist)\n",
    "print('앨범 - ' + album)\n",
    "print('발매 - ' + music)\n",
    "print('장르 - ' + sa)\n",
    "print('작곡 - ' + py)\n",
    "print('작사 - ' + date)\n",
    "print('편곡 - ' + jan)"
   ]
  }
 ],
 "metadata": {
  "kernelspec": {
   "display_name": "Python 3",
   "language": "python",
   "name": "python3"
  },
  "language_info": {
   "codemirror_mode": {
    "name": "ipython",
    "version": 3
   },
   "file_extension": ".py",
   "mimetype": "text/x-python",
   "name": "python",
   "nbconvert_exporter": "python",
   "pygments_lexer": "ipython3",
   "version": "3.8.8"
  }
 },
 "nbformat": 4,
 "nbformat_minor": 5
}
