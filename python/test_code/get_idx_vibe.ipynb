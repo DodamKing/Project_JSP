{
 "cells": [
  {
   "cell_type": "code",
   "execution_count": 1,
   "id": "5fedde4f",
   "metadata": {},
   "outputs": [],
   "source": [
    "import pymysql\n",
    "from bs4 import BeautifulSoup as bs\n",
    "from selenium import webdriver\n",
    "from time import sleep\n",
    "\n",
    "conn = pymysql.connect(host='localhost', user='root', password='1234', db='java02_kdd')\n",
    "cursors = conn.cursor()\n",
    "\n",
    "sql = 'select idx, lyrics from song where idx != 287'\n",
    "cursors.execute(sql)\n",
    "result = cursors.fetchall()"
   ]
  },
  {
   "cell_type": "code",
   "execution_count": 129,
   "id": "6f419e2e",
   "metadata": {},
   "outputs": [
    {
     "data": {
      "text/plain": [
       "252"
      ]
     },
     "execution_count": 129,
     "metadata": {},
     "output_type": "execute_result"
    }
   ],
   "source": [
    "idx_list = []\n",
    "\n",
    "for item in result:\n",
    "    idx_list.append(item[0])\n",
    "    \n",
    "len(idx_list)"
   ]
  },
  {
   "cell_type": "code",
   "execution_count": 130,
   "id": "3d13c58b",
   "metadata": {},
   "outputs": [
    {
     "name": "stderr",
     "output_type": "stream",
     "text": [
      "<ipython-input-130-6db0174d194f>:9: DeprecationWarning: executable_path has been deprecated, please pass in a Service object\n",
      "  driver = webdriver.Chrome('./95/chromedriver.exe')\n"
     ]
    },
    {
     "name": "stdout",
     "output_type": "stream",
     "text": [
      "272 TROUBLE (Prod. Slom)  없음\n",
      "383 별의 조각  없음\n",
      "384 P.R.R.W.  없음\n",
      "385 물의 여행  없음\n",
      "386 오르트구름  없음\n",
      "387 나는 계획이 있다  없음\n",
      "388 잘 지내  없음\n",
      "389 반짝, 빛을 내  없음\n",
      "390 Truly  없음\n",
      "391 Savior  없음\n",
      "392 6년 230일  없음\n",
      "393 하나의 달  없음\n",
      "452 기다리다  없음\n",
      "insert row :  239\n"
     ]
    }
   ],
   "source": [
    "cnt = 0\n",
    "\n",
    "for idx in idx_list:\n",
    "    url = 'https://vibe.naver.com/search/tracks?query='\n",
    "    sql = 'select idx, title, artist from song where idx = %s'\n",
    "    cursors.execute(sql, idx)\n",
    "    result = cursors.fetchall()\n",
    "    query = result[0][1] + ' - ' + result[0][2]\n",
    "    driver = webdriver.Chrome('./95/chromedriver.exe')\n",
    "    driver.implicitly_wait(10)\n",
    "    driver.get(url + query)\n",
    "    soup = bs(driver.page_source, 'html.parser')\n",
    "\n",
    "    if len(soup.select('div.title_badge_wrap > span.inner_cell > a')) == 0: \n",
    "        print(idx, result[0][1], '없음')\n",
    "        driver.close()\n",
    "        continue\n",
    "    \n",
    "    vibeidx = soup.select('div.title_badge_wrap > span.inner_cell > a')[0].get('href')\n",
    "    key = 'https://vibe.naver.com' + vibeidx\n",
    "    \n",
    "    driver.get(key)\n",
    "    soup = bs(driver.page_source, 'html.parser')\n",
    "#     data = soup.select('div.song_info > div')\n",
    "\n",
    "#     words = ''\n",
    "#     music = ''\n",
    "#     arranger = ''\n",
    "    \n",
    "#     if len(data) == 4:\n",
    "#         words = data[0].text.replace('작사', '').strip()\n",
    "#         music = data[1].text.replace('작곡', '').strip()\n",
    "#         arranger = data[2].text.replace('편곡', '').strip()\n",
    "        \n",
    "#     elif len(data) == 3:\n",
    "#         words = data[0].text.replace('작사', '').strip()\n",
    "#         music = data[1].text.replace('작곡', '').strip()\n",
    "\n",
    "#     elif len(data) == 2:\n",
    "#         words = data[0].text.replace('작사', '').strip() \n",
    "    \n",
    "    lyrics = ''\n",
    "    if soup.select('div.section_lyrics') != []:\n",
    "        lyrics = soup.select('div.section_lyrics')[0].text[2:-3]\n",
    "    \n",
    "    driver.close()\n",
    "    \n",
    "    try:\n",
    "#         sql = 'update song set music = %s, words = %s, arranger = %s, lyrics = %s where idx = %s'\n",
    "#         val = (music, words, arranger, lyrics, idx)\n",
    "        sql = 'update song set lyrics = %s where idx = %s'\n",
    "        val = (lyrics, idx)\n",
    "        cursors.execute(sql, val)\n",
    "\n",
    "        conn.commit()\n",
    "        cnt += 1\n",
    "    except:\n",
    "        print(idx, result[0][1], ' db오류')\n",
    "        \n",
    "print('insert row : ', cnt)"
   ]
  },
  {
   "cell_type": "code",
   "execution_count": 114,
   "id": "7c94f1aa",
   "metadata": {},
   "outputs": [],
   "source": [
    "cursors.close()\n",
    "conn.close()"
   ]
  },
  {
   "cell_type": "code",
   "execution_count": 10,
   "id": "267ea906",
   "metadata": {},
   "outputs": [
    {
     "data": {
      "text/plain": [
       "'여기로 가다 보면\\n결국 끝은 오겠지\\n\\n다음이 있다는 건\\n뜬 소문 뿐이니까\\n\\n해낼 수 있을 거란\\n믿음 같은 건 없었어\\n\\n그대가 날 발견해 주기전엔\\n\\n꽃이 피는 계절을 만나기 위해\\n견뎌온 겨울은\\n그 해처럼 여전히\\n시험에 들게 하지만\\n\\nSavior\\n불완전한 나를 안아준\\n그 품에 기대 꿈을 꿔\\n내 모든 걸 걸고\\n\\nGradual\\n미완성인 채로 남겨진\\n우리들을 위한 꿈을 꿔\\nCause you will always be my savior\\n\\n칠흑 같은 어둠속엔\\n뭐가 진짠지 구분할 수 없지만\\n그 해처럼 여전히\\n해답을 적어가겠지\\n\\nSavior\\n불완전한 나를 안아준\\n그 품에 기대 꿈을 꿔\\n내 모든 걸 걸고\\n\\nGradual\\n미완성인 채로 남겨진\\n우리들을 위한 꿈을 꿔\\nCause you will always be my savior\\n\\n여기로 가다 보면\\n결국 끝은 오겠지\\n\\n그대가 날 발견해 주기 전엔'"
      ]
     },
     "execution_count": 10,
     "metadata": {},
     "output_type": "execute_result"
    }
   ],
   "source": [
    "idx = 391\n",
    "\n",
    "url = 'https://vibe.naver.com/search/tracks?query='\n",
    "driver = webdriver.Chrome('./95/chromedriver.exe')\n",
    "driver.implicitly_wait(10)\n",
    "\n",
    "sql = 'select idx, title, artist from song where idx = %s'\n",
    "cursors.execute(sql, idx)\n",
    "result = cursors.fetchall()\n",
    "query = result[0][1] + ' - ' + result[0][2]\n",
    "driver.get(url + query)\n",
    "soup = bs(driver.page_source, 'html.parser')\n",
    "\n",
    "vibeidx = soup.select('div.title_badge_wrap > span.inner_cell > a')[0].get('href')\n",
    "url = 'https://vibe.naver.com' + vibeidx\n",
    "\n",
    "driver.get(url)\n",
    "soup = bs(driver.page_source, 'html.parser')\n",
    "data = soup.select('div.song_info > div')\n",
    "\n",
    "words = data[0].text.replace('작사', '').strip()\n",
    "music = data[1].text.replace('작곡', '').strip()\n",
    "arranger = data[2].text.replace('편곡', '').strip()\n",
    "\n",
    "lyrics = soup.select('div.section_lyrics')[0].text[2:-3]\n",
    "\n",
    "lyrics\n",
    "# try:\n",
    "#     sql = 'update song set music = %s, words = %s, arranger = %s, lyrics = %s where idx = %s'\n",
    "#     val = (music, words, arranger, lyrics, idx)\n",
    "#     cursors.execute(sql, val)\n",
    "\n",
    "#     conn.commit()\n",
    "#     cnt += 1\n",
    "# except:\n",
    "#     print(result[0][1], ' db오류')"
   ]
  },
  {
   "cell_type": "code",
   "execution_count": 11,
   "id": "5e01a92b",
   "metadata": {
    "scrolled": true
   },
   "outputs": [],
   "source": [
    "# sql = 'update song set lyrics = %s where idx = %s'\n",
    "# val = (lyrics, idx)\n",
    "sql = 'update song set music = %s, words = %s, arranger = %s, lyrics = %s where idx = %s'\n",
    "val = (music, words, arranger, lyrics, idx)\n",
    "cursors.execute(sql, val)\n",
    "conn.commit()"
   ]
  }
 ],
 "metadata": {
  "kernelspec": {
   "display_name": "Python 3",
   "language": "python",
   "name": "python3"
  },
  "language_info": {
   "codemirror_mode": {
    "name": "ipython",
    "version": 3
   },
   "file_extension": ".py",
   "mimetype": "text/x-python",
   "name": "python",
   "nbconvert_exporter": "python",
   "pygments_lexer": "ipython3",
   "version": "3.8.8"
  }
 },
 "nbformat": 4,
 "nbformat_minor": 5
}
