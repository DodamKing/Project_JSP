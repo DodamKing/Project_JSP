{
 "cells": [
  {
   "cell_type": "code",
   "execution_count": 128,
   "id": "5fedde4f",
   "metadata": {},
   "outputs": [],
   "source": [
    "import pymysql\n",
    "from bs4 import BeautifulSoup as bs\n",
    "from selenium import webdriver\n",
    "from time import sleep\n",
    "\n",
    "conn = pymysql.connect(host='localhost', user='root', password='1234', db='java02_kdd')\n",
    "cursors = conn.cursor()\n",
    "\n",
    "sql = 'select idx, lyrics from song where idx != 287'\n",
    "cursors.execute(sql)\n",
    "result = cursors.fetchall()"
   ]
  },
  {
   "cell_type": "code",
   "execution_count": 129,
   "id": "6f419e2e",
   "metadata": {},
   "outputs": [
    {
     "data": {
      "text/plain": [
       "252"
      ]
     },
     "execution_count": 129,
     "metadata": {},
     "output_type": "execute_result"
    }
   ],
   "source": [
    "idx_list = []\n",
    "\n",
    "for item in result:\n",
    "    idx_list.append(item[0])\n",
    "    \n",
    "len(idx_list)"
   ]
  },
  {
   "cell_type": "code",
   "execution_count": 130,
   "id": "3d13c58b",
   "metadata": {},
   "outputs": [
    {
     "name": "stderr",
     "output_type": "stream",
     "text": [
      "<ipython-input-130-6db0174d194f>:9: DeprecationWarning: executable_path has been deprecated, please pass in a Service object\n",
      "  driver = webdriver.Chrome('./95/chromedriver.exe')\n"
     ]
    },
    {
     "name": "stdout",
     "output_type": "stream",
     "text": [
      "272 TROUBLE (Prod. Slom)  없음\n",
      "383 별의 조각  없음\n",
      "384 P.R.R.W.  없음\n",
      "385 물의 여행  없음\n",
      "386 오르트구름  없음\n",
      "387 나는 계획이 있다  없음\n",
      "388 잘 지내  없음\n",
      "389 반짝, 빛을 내  없음\n",
      "390 Truly  없음\n",
      "391 Savior  없음\n",
      "392 6년 230일  없음\n",
      "393 하나의 달  없음\n",
      "452 기다리다  없음\n",
      "insert row :  239\n"
     ]
    }
   ],
   "source": [
    "cnt = 0\n",
    "\n",
    "for idx in idx_list:\n",
    "    url = 'https://vibe.naver.com/search/tracks?query='\n",
    "    sql = 'select idx, title, artist from song where idx = %s'\n",
    "    cursors.execute(sql, idx)\n",
    "    result = cursors.fetchall()\n",
    "    query = result[0][1] + ' - ' + result[0][2]\n",
    "    driver = webdriver.Chrome('./95/chromedriver.exe')\n",
    "    driver.implicitly_wait(10)\n",
    "    driver.get(url + query)\n",
    "    soup = bs(driver.page_source, 'html.parser')\n",
    "\n",
    "    if len(soup.select('div.title_badge_wrap > span.inner_cell > a')) == 0: \n",
    "        print(idx, result[0][1], '없음')\n",
    "        driver.close()\n",
    "        continue\n",
    "    \n",
    "    vibeidx = soup.select('div.title_badge_wrap > span.inner_cell > a')[0].get('href')\n",
    "    key = 'https://vibe.naver.com' + vibeidx\n",
    "    \n",
    "    driver.get(key)\n",
    "    soup = bs(driver.page_source, 'html.parser')\n",
    "#     data = soup.select('div.song_info > div')\n",
    "\n",
    "#     words = ''\n",
    "#     music = ''\n",
    "#     arranger = ''\n",
    "    \n",
    "#     if len(data) == 4:\n",
    "#         words = data[0].text.replace('작사', '').strip()\n",
    "#         music = data[1].text.replace('작곡', '').strip()\n",
    "#         arranger = data[2].text.replace('편곡', '').strip()\n",
    "        \n",
    "#     elif len(data) == 3:\n",
    "#         words = data[0].text.replace('작사', '').strip()\n",
    "#         music = data[1].text.replace('작곡', '').strip()\n",
    "\n",
    "#     elif len(data) == 2:\n",
    "#         words = data[0].text.replace('작사', '').strip() \n",
    "    \n",
    "    lyrics = ''\n",
    "    if soup.select('div.section_lyrics') != []:\n",
    "        lyrics = soup.select('div.section_lyrics')[0].text[2:-3]\n",
    "    \n",
    "    driver.close()\n",
    "    \n",
    "    try:\n",
    "#         sql = 'update song set music = %s, words = %s, arranger = %s, lyrics = %s where idx = %s'\n",
    "#         val = (music, words, arranger, lyrics, idx)\n",
    "        sql = 'update song set lyrics = %s where idx = %s'\n",
    "        val = (lyrics, idx)\n",
    "        cursors.execute(sql, val)\n",
    "\n",
    "        conn.commit()\n",
    "        cnt += 1\n",
    "    except:\n",
    "        print(idx, result[0][1], ' db오류')\n",
    "        \n",
    "print('insert row : ', cnt)"
   ]
  },
  {
   "cell_type": "code",
   "execution_count": 114,
   "id": "7c94f1aa",
   "metadata": {},
   "outputs": [],
   "source": [
    "cursors.close()\n",
    "conn.close()"
   ]
  },
  {
   "cell_type": "code",
   "execution_count": 122,
   "id": "267ea906",
   "metadata": {},
   "outputs": [
    {
     "name": "stderr",
     "output_type": "stream",
     "text": [
      "<ipython-input-122-bc5412e20e1e>:4: DeprecationWarning: executable_path has been deprecated, please pass in a Service object\n",
      "  driver = webdriver.Chrome('./95/chromedriver.exe')\n"
     ]
    }
   ],
   "source": [
    "idx = 399\n",
    "\n",
    "url = 'https://vibe.naver.com/search/tracks?query='\n",
    "driver = webdriver.Chrome('./95/chromedriver.exe')\n",
    "driver.implicitly_wait(10)\n",
    "\n",
    "sql = 'select idx, title, artist from song where idx = %s'\n",
    "cursors.execute(sql, idx)\n",
    "result = cursors.fetchall()\n",
    "query = result[0][1] + ' - ' + result[0][2]\n",
    "driver.get(url + query)\n",
    "soup = bs(driver.page_source, 'html.parser')\n",
    "\n",
    "vibeidx = soup.select('div.title_badge_wrap > span.inner_cell > a')[0].get('href')\n",
    "url = 'https://vibe.naver.com' + vibeidx\n",
    "\n",
    "driver.get(url)\n",
    "soup = bs(driver.page_source, 'html.parser')\n",
    "data = soup.select('div.song_info > div')\n",
    "\n",
    "words = data[0].text.replace('작사', '').strip()\n",
    "music = data[1].text.replace('작곡', '').strip()\n",
    "arranger = data[2].text.replace('편곡', '').strip()\n",
    "\n",
    "lyrics = soup.select('div.section_lyrics')[0].text[2:-3]\n",
    "\n",
    "# try:\n",
    "#     sql = 'update song set music = %s, words = %s, arranger = %s, lyrics = %s where idx = %s'\n",
    "#     val = (music, words, arranger, lyrics, idx)\n",
    "#     cursors.execute(sql, val)\n",
    "\n",
    "#     conn.commit()\n",
    "#     cnt += 1\n",
    "# except:\n",
    "#     print(result[0][1], ' db오류')"
   ]
  },
  {
   "cell_type": "code",
   "execution_count": 123,
   "id": "5e01a92b",
   "metadata": {
    "scrolled": true
   },
   "outputs": [
    {
     "data": {
      "text/plain": [
       "\"까만 리무진 보며\\n꿈을 키웠지\\n언젠가는 나도 저걸 갖게 될 거야\\n커다란 리무진에서 내가 내리지\\n변한 것은 내가 아닌 삶의 무게 they don't know\\n \\nI say hi\\n내게 안 된다는 사람들 오랜만이야\\n나를 봐\\n너에게 인사를 건네는 여유쯤이야\\n왜 병을 줬어 내게\\n덕분에 젖었어 베개는\\n그래서 I said 'you ready?'\\n이 노랜 널 위한 곡이니까 들어줘\\n됐어 이제 와 건네는 응원은 개뻥\\n날 떠난 그녀도 전화해 취해서\\n회사 매니저가 음악을 채점했던\\n그때도 버텼어 매번\\n거짓말 하지 마 원래 잘 될 줄 알았다네 비오가\\n멀었어 이게 내 신호탄\\n새벽에 전화는 하지 마\\n \\nAlways hide freakin' inside\\n그땐 갉아 먹던 자존감이 식사\\nReset 그때 나의 실패를\\n바란 사람들아\\nNever change though I'm in a limousine\\n \\n까만 리무진 보며\\n꿈을 키웠지\\n언젠가는 나도 저걸 갖게 될 거야\\n커다란 리무진에서 내가 내리지\\n변한 것은 내가 아닌 삶의 무게 they don't know\\n \\nNo no no oh oh oh oh \\nI don't change my mind if I'm in a limousine\\n \\nOh no no 기억도 안 나고 안 할 거\\n열두 평 to 120평\\n울 엄마 식당 말고 골프 쳐\\nBack in a day yeah\\n편이 오늘의 적이네 yeah\\n그걸 깨달았을 때엔\\n서랍 안에 총을 넣어뒀네\\n \\n리무진처럼 길고 길었지\\n지옥 같던 연습실\\n청춘을 갈아 넣어 뿌린\\n내 그릇의 가니쉬\\n좋은 상품이랍시고\\n많이들 포장도 하지만\\n아이돌 다 리스펙하지\\nI hate your laziness\\n \\nAlways hide freakin' inside\\n그땐 갉아먹던 자존감이 식사\\nReset 그때 나의 실패를\\n바란 사람들아\\nNever change though I'm in a limousine\\n \\n까만 리무진 보며\\n꿈을 키웠지\\n언젠가는 나도 저걸 갖게 될 거야\\n커다란 리무진에서 내가 내리지\\n변한 것은 내가 아닌 삶의 무게 they don't know\\n\\n떠나도 보내고\\n가난은 forever\\n너 때문에 난\\n희망을 버렸어\\n \\n그래도 일어서\\n다시 걸었어\\n괜찮아\\n이건 다 리허설\\n \\n빌빌댔었던 올해\\n작년과 2년 전 나의\\n방의 쌓였던 약에\\n양의 비례한 곡들과 입속의 단내\\n돌고 돌고 돌아 breathing \\n\\n이제 쉬어지네 호흡이\\n몰래몰래 했던 나의 젊은 날에\\n한숨 가득 찬 레코딩\\n \\n네 잎을 바라던 손이\\n저절로 떼버린 하나의 꽃잎\\n\\nI didn't want luck. I wanted\\n \\n까만 리무진 보며\\n꿈을 키웠지\\n언젠가는 나도 저걸 갖게 될 거야\\n커다란 리무진에서 내가 내리지\\n변한 것은 내가 아닌 삶의 무게 they don't know\\n \\nNo no no oh oh oh oh\\nI don't change my mind if I'm in a limousine\\n\\n\""
      ]
     },
     "execution_count": 123,
     "metadata": {},
     "output_type": "execute_result"
    }
   ],
   "source": [
    "lyrics"
   ]
  }
 ],
 "metadata": {
  "kernelspec": {
   "display_name": "Python 3",
   "language": "python",
   "name": "python3"
  },
  "language_info": {
   "codemirror_mode": {
    "name": "ipython",
    "version": 3
   },
   "file_extension": ".py",
   "mimetype": "text/x-python",
   "name": "python",
   "nbconvert_exporter": "python",
   "pygments_lexer": "ipython3",
   "version": "3.8.8"
  }
 },
 "nbformat": 4,
 "nbformat_minor": 5
}
