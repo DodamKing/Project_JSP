{
 "cells": [
  {
   "cell_type": "code",
   "execution_count": 30,
   "id": "b4b2be12",
   "metadata": {},
   "outputs": [],
   "source": [
    "import pymysql\n",
    "from bs4 import BeautifulSoup as bs\n",
    "from selenium import webdriver\n",
    "from time import sleep"
   ]
  },
  {
   "cell_type": "code",
   "execution_count": 31,
   "id": "107a5a47",
   "metadata": {},
   "outputs": [],
   "source": [
    "conn = pymysql.connect(host='localhost', user='root', password='1234', db='java02_kdd')\n",
    "cursors = conn.cursor()"
   ]
  },
  {
   "cell_type": "code",
   "execution_count": 33,
   "id": "6cdd0e38",
   "metadata": {},
   "outputs": [],
   "source": [
    "sql = 'select idx, lyrics from song where album = %s and idx > 528'\n",
    "cursors.execute(sql, '')\n",
    "result = cursors.fetchall()"
   ]
  },
  {
   "cell_type": "code",
   "execution_count": 34,
   "id": "4e9eecd7",
   "metadata": {},
   "outputs": [
    {
     "data": {
      "text/plain": [
       "7"
      ]
     },
     "execution_count": 34,
     "metadata": {},
     "output_type": "execute_result"
    }
   ],
   "source": [
    "idx_list = []\n",
    "\n",
    "for item in result:\n",
    "    idx_list.append(item[0])\n",
    "    \n",
    "len(idx_list)"
   ]
  },
  {
   "cell_type": "code",
   "execution_count": 35,
   "id": "0ab617e7",
   "metadata": {},
   "outputs": [
    {
     "name": "stderr",
     "output_type": "stream",
     "text": [
      "<ipython-input-35-7501bf8fb188>:2: DeprecationWarning: executable_path has been deprecated, please pass in a Service object\n",
      "  driver = webdriver.Chrome('./95/chromedriver.exe')\n"
     ]
    },
    {
     "name": "stdout",
     "output_type": "stream",
     "text": [
      "PYRAMID (feat.릴보이(lIlBOI), 개코) 검색 실패\n",
      "Sunshine 검색 실패\n",
      "insert row :  8\n"
     ]
    }
   ],
   "source": [
    "url = 'https://search.naver.com/search.naver?where=nexearch&sm=top_hty&fbm=1&ie=utf8&query='\n",
    "driver = webdriver.Chrome('./95/chromedriver.exe')\n",
    "driver.implicitly_wait(10)\n",
    "cnt = 0\n",
    "    \n",
    "for idx in idx_list:\n",
    "    sql = 'select idx, title, artist from song where idx = %s'\n",
    "    cursors.execute(sql, idx)\n",
    "    result = cursors.fetchall()\n",
    "    query = result[0][1] + ' - ' + result[0][2]\n",
    "    driver.get(url + query)\n",
    "    soup = bs(driver.page_source, 'html.parser')\n",
    "    \n",
    "    if soup.select('ul.tab_list li.tab a') == []:\n",
    "        driver.get(url + result[0][1])\n",
    "        soup = bs(driver.page_source, 'html.parser')\n",
    "    \n",
    "        if soup.select('ul.tab_list li.tab a') == []:\n",
    "            print(result[0][1], '검색 실패')\n",
    "            continue\n",
    "        \n",
    "    html = soup.select('ul.tab_list a')[1].get('href')\n",
    "    key = 'https://search.naver.com/search.naver' + html\n",
    "    \n",
    "    driver.get(key)\n",
    "    soup = bs(driver.page_source, 'html.parser')\n",
    "\n",
    "    if soup.select('div.info_group dd') !=[]:\n",
    "        data = soup.select('div.info_group dd')\n",
    "        cnt = len(data)\n",
    "\n",
    "        album = ''\n",
    "        releaseDate = ''\n",
    "        genre = ''\n",
    "        music = ''\n",
    "        words = ''\n",
    "        arranger = ''\n",
    "\n",
    "        if cnt == 7:\n",
    "            artist = data[0].text.strip()\n",
    "            album = data[1].text.strip()\n",
    "            releaseDate = data[2].text.strip()\n",
    "            genre = data[3].text.strip()\n",
    "            music = data[4].text.strip()\n",
    "            words = data[5].text.strip()\n",
    "            arranger = data[6].text.strip()\n",
    "        elif cnt == 6:\n",
    "            artist = data[0].text.strip()\n",
    "            album = data[1].text.strip()\n",
    "            releaseDate = data[2].text.strip()\n",
    "            genre = data[3].text.strip()\n",
    "            music = data[4].text.strip()\n",
    "            words = data[5].text.strip()\n",
    "        elif cnt == 5:\n",
    "            artist = data[0].text.strip()\n",
    "            album = data[1].text.strip()\n",
    "            releaseDate = data[2].text.strip()\n",
    "            genre = data[3].text.strip()\n",
    "            music = data[4].text.strip()\n",
    "        elif cnt == 4:\n",
    "            artist = data[0].text.strip()\n",
    "            album = data[1].text.strip()\n",
    "            releaseDate = data[2].text.strip()\n",
    "            genre = data[3].text.strip()\n",
    "\n",
    "        lyrics_data = soup.select_one('p.no_ellipsis')\n",
    "        lyrics = \"\"\n",
    "        no = 0\n",
    "        for item in lyrics_data:\n",
    "            if no % 2 == 0:\n",
    "                lyrics += item.strip()\n",
    "                no += 1\n",
    "            else:\n",
    "                lyrics += '\\n'\n",
    "                no += 1\n",
    "        \n",
    "        try:\n",
    "            sql = 'update song set album = %s, releaseDate = %s, genre = %s, music = %s, words = %s, arranger = %s, lyrics = %s where idx = %s'\n",
    "            val = (album, releaseDate, genre, music, words, arranger, lyrics, idx)\n",
    "            cursors.execute(sql, val)\n",
    "\n",
    "            conn.commit()\n",
    "            cnt += 1\n",
    "        except:\n",
    "            print('db오류')\n",
    "        \n",
    "print('insert row : ', cnt)\n",
    "driver.close()\n",
    "cursors.close()\n",
    "conn.close()\n",
    "        "
   ]
  },
  {
   "cell_type": "code",
   "execution_count": 8,
   "id": "ddbed34f",
   "metadata": {},
   "outputs": [],
   "source": [
    "cursors.close()\n",
    "conn.close()"
   ]
  }
 ],
 "metadata": {
  "kernelspec": {
   "display_name": "Python 3",
   "language": "python",
   "name": "python3"
  },
  "language_info": {
   "codemirror_mode": {
    "name": "ipython",
    "version": 3
   },
   "file_extension": ".py",
   "mimetype": "text/x-python",
   "name": "python",
   "nbconvert_exporter": "python",
   "pygments_lexer": "ipython3",
   "version": "3.8.8"
  }
 },
 "nbformat": 4,
 "nbformat_minor": 5
}
