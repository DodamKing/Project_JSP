{
 "cells": [
  {
   "cell_type": "code",
   "execution_count": 62,
   "id": "4cc98449",
   "metadata": {},
   "outputs": [],
   "source": [
    "import pymysql\n",
    "from bs4 import BeautifulSoup as bs\n",
    "from selenium import webdriver\n",
    "from time import sleep\n",
    "\n",
    "conn = pymysql.connect(host='localhost', user='root',\n",
    "                       password='1234', db='java02_kdd')\n",
    "cursors = conn.cursor()"
   ]
  },
  {
   "cell_type": "code",
   "execution_count": 166,
   "id": "27612724",
   "metadata": {},
   "outputs": [],
   "source": [
    "idx = \"262\"\n",
    "sql = 'select * from song where idx = %s'\n",
    "cursors.execute(sql, idx)\n",
    "result = cursors.fetchall()\n",
    "title = result[0][2]\n",
    "artist = result[0][3]"
   ]
  },
  {
   "cell_type": "code",
   "execution_count": 168,
   "id": "b4588dd3",
   "metadata": {},
   "outputs": [
    {
     "data": {
      "text/plain": [
       "'쉬어 (Feat. MINO) (Prod. GRAY)'"
      ]
     },
     "execution_count": 168,
     "metadata": {},
     "output_type": "execute_result"
    }
   ],
   "source": [
    "title"
   ]
  },
  {
   "cell_type": "code",
   "execution_count": 161,
   "id": "2403ae2d",
   "metadata": {},
   "outputs": [
    {
     "name": "stderr",
     "output_type": "stream",
     "text": [
      "<ipython-input-161-68c477fbbee1>:1: DeprecationWarning: executable_path has been deprecated, please pass in a Service object\n",
      "  driver = webdriver.Chrome('./96/chromedriver.exe')\n"
     ]
    }
   ],
   "source": [
    "driver = webdriver.Chrome('./96/chromedriver.exe')\n",
    "driver.implicitly_wait(10)\n",
    "query = '{} {}'.format(title, artist).replace('&','')\n",
    "url = 'https://search.naver.com/search.naver?where=nexearch&sm=top_hty&fbm=1&ie=utf8&query='\n",
    "driver.get(url + query)\n",
    "soup = bs(driver.page_source, 'html.parser')\n",
    "\n",
    "html = soup.select('ul.tab_list a')[1].get('href')\n",
    "key = 'https://search.naver.com/search.naver' + html\n",
    "driver.get(key)\n",
    "soup = bs(driver.page_source, 'html.parser')"
   ]
  },
  {
   "cell_type": "code",
   "execution_count": 170,
   "id": "878e94c0",
   "metadata": {
    "scrolled": true
   },
   "outputs": [
    {
     "name": "stderr",
     "output_type": "stream",
     "text": [
      "<ipython-input-170-42e67ba65b2c>:2: DeprecationWarning: executable_path has been deprecated, please pass in a Service object\n",
      "  driver = webdriver.Chrome('./96/chromedriver.exe')\n"
     ]
    }
   ],
   "source": [
    "# 집접 입력 하삼\n",
    "driver = webdriver.Chrome('./96/chromedriver.exe')\n",
    "driver.implicitly_wait(10)\n",
    "url = 'https://vibe.naver.com/track/51524219'\n",
    "driver.get(url)\n",
    "soup = bs(driver.page_source, 'html.parser')"
   ]
  },
  {
   "cell_type": "code",
   "execution_count": 172,
   "id": "2f4b5603",
   "metadata": {
    "scrolled": false
   },
   "outputs": [
    {
     "data": {
      "text/plain": [
       "'오늘은 눈 좀 붙이고 쉬어\\n굳어진 몸을 풀어\\n차가운 목걸이가 조여\\n숨이 잘 안 쉬어지잖아\\n꿈꾸러 가자 좀 쉬어 쉬어\\n\\n집 앞 공사판 숨을 쉬어\\n밤이 되면 맘의 눈을 떠\\n관중들이 내는 환호성\\n보이지 않지만 꿈을 꿨어 yeah\\n어린 나는 이제 춤을 춰\\n2014의 불확실함에\\n벌벌 떨던 꼬마에게 말을 거네 yeah\\n\"숨을 쉬어\"\\n숨을 들이쉬고 내쉬고를 반복\\n다시 넘어지더라도 일어나길 반복\\n결국 끝에 가선 푸른 풀밭이 날 반겨\\n쉴 만한 물가에서 비파와 수금으로 반격 yeah\\n이제 그냥 켜 봐라 TV\\n마술사 아닌데 NOW YOU SEE ME\\n거기서 외칠 말은 단 하나\\n다른 거 없다 마, 다만 하나님의 사랑\\n그저 편히 쉬어 너와 나의 mood\\n소리 높여서 숨을 내쉬어\\nJust one more time\\n한 번 더 준비 I\\'m ready\\n숨을 크게 들이쉬고 나서\\nLet it burn Let it burn\\nI\\'mma show you how I did it\\nY\\'all get it?\\n\\n난 못 쉬어서 한숨 쉬어\\n한숨 쉬어 가려 나온 게 show\\n많은 게 쉬워져 버려 아쉬워\\n대체 우리 언제 시원한 공기 마셔\\n1 for the show 2 for the money not her\\n8 mile 속의 에미넴이 말했어\\n기회는 한번 쥐어진 microphone\\nYo 첫 마디에 D.O.G we on it\\n나 서울로 다시 올라왔어 그때 그 건방진 녀석\\n언제 이리 컸어 관심 없어서 잘 몰랐어\\nSo who that unofficialboyy 봤어\\n이수린 that\\'s my name wassup\\nWassup 나왔어 방송 why 돈 벌러 왔어\\n다시 돌아왔어 돌고 돌고 돌아서\\n다시 돌아왔어 돌고 돌고 돌아\\n그물, 덫, 발사대기, 포획하러 show\\nShow me the money, ackermann\\n또다시 돌아왔어 벌게 내비 둬 그냥 sure\\n\\n오늘은 눈 좀 붙이고 쉬어\\n굳어진 몸을 풀어\\n차가운 목걸이가 조여\\n숨이 잘 안 쉬어지잖아\\n꿈꾸러 가자 좀 쉬어 쉬어\\n\\n2000 slash\\n필요 없어 나만이 내 빽\\n그때 지하방의 제 목소리의 값어친\\n좀 있음 곧 돈이 됩니다 아버지\\nHa 물음표\\n사람들은 이제 와서 내게 물어 또\\n그냥 아버지의 코골이가 구슬퍼\\n숨통 틔워주려 수천수만 번 죽였던\\n나의 스무 살에 하는 CPR\\nClick, Pow, Revival 숨 쉬어\\n두 번째 삶의 첫 타이틀곡은\\n아이러니하게 \"쉬어\"\\n비워 나를 이제 미워하긴 너무나도 싫어\\nYeah I believe\\nYeah now, so I believe\\n내가 너도 깨워줄게\\n너가 모르게 쓰러진 너를 위해\\nClap 숨 쉬어, 숨 쉬어\\nyeah 내일의 내 일은 내일의 내가 데이게 해\\n채이고 베이던, 베이고 패이든 재생\\n패배의 냄새는 매캐해 매연의 백배야 baby\\n밝았던 눈, 밝았던 move, 가졌던 그\\n시절의 You 불러 일루 와\\n이제 그 쓰레기들을 다 모아\\n놓고 피우던 담배를 그 위에 투하\\n\\n쉬는 것도 일, 일은 걍 일\\n잠드는 것도 내겐 다 일\\n눈 뜨고 있기 피곤하지\\n숨만 쉬어도 돈이 들어가니\\n그 돈을 위해 난 지금도 못 쉬어\\n커피가 내 포션 음음\\n내 무한도전\\n종방연은 멀었지\\n15년째 꾸준하게 넘고 있는 이 허들은 여전히 견고하지만\\n까진 무릎에도 내 비전은 새롭게 내 빽은 1만 시간\\n동기들은 내게 말해 쟤는 출퇴근 안 해 나보다 자유롭지\\n넌 몰라 그 자유로움의 무게가 얼마인지\\n내 가벼운 톤에 걸맞지 않는 내 책임감 장남의 고뇌\\n내 팀 내 동생 내 친구 내 식구를 담아놨기에 내 목은\\n이제 안 쉬어 쉬어 크게 숨을 쉬어 이미 난 Man of the year\\n음 Cheers Cheers 저 하늘 위로 렉시 누나처럼 다 일어서 yeah\\n\\n오늘은 눈 좀 붙이고 쉬어\\n굳어진 몸을 풀어\\n차가운 목걸이가 조여\\n숨이 잘 안 쉬어지잖아\\n꿈꾸러 가자 좀 쉬어 쉬어\\n\\nPop like Beatles 시대의 시를 노래하지\\n내 전생은 이름 모르는 꽃일 거야\\n향기를 뿌리지\\n리스너들의 암술을 찾아내고 넌 꽂힐 거야\\n쉬어가지 말란 뭣 같은 말에 혹 하지 마\\n다 똑같이 말해 또 거짓말 뻔하지\\n콩깍질 껴야만 논하지 평판\\n난 결관 몰라 평가해 과정만\\n쉬어 같이 all night long\\n빨랑 빨랑 모여봐 여기 폴라로이드\\n찰칵 찰칵 거리지 모두 명장면\\n살짝 살짝 설렜어 like an OH MY GIRL\\n쉬어, 직역하면 심호흡\\n거북이는 비웃어 쉼표의 미덕\\n개미들의 피로와 베짱이의 빈곤을\\n비교하자면 난 기타를 집어\\n우린 환상이라면 MBTI가 닿지 않는 곳 그 이상을 봐\\n나는 기다리지\\n당신의 애인과 다신 안 올 긴 Field trip\\n천천히 해 모두가 급해\\n우린 꿈들 그 언저리에서\\n도전해보며 생을 보내자고\\n왜 모델이 런웨이를 겁내는 건데\\n건배\\n\\n오늘은 눈 좀 붙이고 쉬어\\n굳어진 몸을 풀어\\n차가운 목걸이가 조여\\n숨이 잘 안 쉬어지잖아\\n꿈꾸러 가자 좀 쉬어 쉬어\\n\\n쉼표, 찍게 해 줘\\n이름표와 나의 ego\\n그 사이에 많은 허들\\n넘어 다니기엔 지쳐\\n오늘은 눈 붙여\\n조금만 쉬어\\n숨을 들이 마셔\\n조금만 쉬어\\n더보기'"
      ]
     },
     "execution_count": 172,
     "metadata": {},
     "output_type": "execute_result"
    }
   ],
   "source": [
    "soup.select('div.section_lyrics')[0].text[2:]"
   ]
  },
  {
   "cell_type": "code",
   "execution_count": 174,
   "id": "49ef3153",
   "metadata": {},
   "outputs": [
    {
     "data": {
      "text/plain": [
       "'오늘은 눈 좀 붙이고 쉬어\\n굳어진 몸을 풀어\\n차가운 목걸이가 조여\\n숨이 잘 안 쉬어지잖아\\n꿈꾸러 가자 좀 쉬어 쉬어\\n\\n집 앞 공사판 숨을 쉬어\\n밤이 되면 맘의 눈을 떠\\n관중들이 내는 환호성\\n보이지 않지만 꿈을 꿨어 yeah\\n어린 나는 이제 춤을 춰\\n2014의 불확실함에\\n벌벌 떨던 꼬마에게 말을 거네 yeah\\n\"숨을 쉬어\"\\n숨을 들이쉬고 내쉬고를 반복\\n다시 넘어지더라도 일어나길 반복\\n결국 끝에 가선 푸른 풀밭이 날 반겨\\n쉴 만한 물가에서 비파와 수금으로 반격 yeah\\n이제 그냥 켜 봐라 TV\\n마술사 아닌데 NOW YOU SEE ME\\n거기서 외칠 말은 단 하나\\n다른 거 없다 마, 다만 하나님의 사랑\\n그저 편히 쉬어 너와 나의 mood\\n소리 높여서 숨을 내쉬어\\nJust one more time\\n한 번 더 준비 I\\'m ready\\n숨을 크게 들이쉬고 나서\\nLet it burn Let it burn\\nI\\'mma show you how I did it\\nY\\'all get it?\\n\\n난 못 쉬어서 한숨 쉬어\\n한숨 쉬어 가려 나온 게 show\\n많은 게 쉬워져 버려 아쉬워\\n대체 우리 언제 시원한 공기 마셔\\n1 for the show 2 for the money not her\\n8 mile 속의 에미넴이 말했어\\n기회는 한번 쥐어진 microphone\\nYo 첫 마디에 D.O.G we on it\\n나 서울로 다시 올라왔어 그때 그 건방진 녀석\\n언제 이리 컸어 관심 없어서 잘 몰랐어\\nSo who that unofficialboyy 봤어\\n이수린 that\\'s my name wassup\\nWassup 나왔어 방송 why 돈 벌러 왔어\\n다시 돌아왔어 돌고 돌고 돌아서\\n다시 돌아왔어 돌고 돌고 돌아\\n그물, 덫, 발사대기, 포획하러 show\\nShow me the money, ackermann\\n또다시 돌아왔어 벌게 내비 둬 그냥 sure\\n\\n오늘은 눈 좀 붙이고 쉬어\\n굳어진 몸을 풀어\\n차가운 목걸이가 조여\\n숨이 잘 안 쉬어지잖아\\n꿈꾸러 가자 좀 쉬어 쉬어\\n\\n2000 slash\\n필요 없어 나만이 내 빽\\n그때 지하방의 제 목소리의 값어친\\n좀 있음 곧 돈이 됩니다 아버지\\nHa 물음표\\n사람들은 이제 와서 내게 물어 또\\n그냥 아버지의 코골이가 구슬퍼\\n숨통 틔워주려 수천수만 번 죽였던\\n나의 스무 살에 하는 CPR\\nClick, Pow, Revival 숨 쉬어\\n두 번째 삶의 첫 타이틀곡은\\n아이러니하게 \"쉬어\"\\n비워 나를 이제 미워하긴 너무나도 싫어\\nYeah I believe\\nYeah now, so I believe\\n내가 너도 깨워줄게\\n너가 모르게 쓰러진 너를 위해\\nClap 숨 쉬어, 숨 쉬어\\nyeah 내일의 내 일은 내일의 내가 데이게 해\\n채이고 베이던, 베이고 패이든 재생\\n패배의 냄새는 매캐해 매연의 백배야 baby\\n밝았던 눈, 밝았던 move, 가졌던 그\\n시절의 You 불러 일루 와\\n이제 그 쓰레기들을 다 모아\\n놓고 피우던 담배를 그 위에 투하\\n\\n쉬는 것도 일, 일은 걍 일\\n잠드는 것도 내겐 다 일\\n눈 뜨고 있기 피곤하지\\n숨만 쉬어도 돈이 들어가니\\n그 돈을 위해 난 지금도 못 쉬어\\n커피가 내 포션 음음\\n내 무한도전\\n종방연은 멀었지\\n15년째 꾸준하게 넘고 있는 이 허들은 여전히 견고하지만\\n까진 무릎에도 내 비전은 새롭게 내 빽은 1만 시간\\n동기들은 내게 말해 쟤는 출퇴근 안 해 나보다 자유롭지\\n넌 몰라 그 자유로움의 무게가 얼마인지\\n내 가벼운 톤에 걸맞지 않는 내 책임감 장남의 고뇌\\n내 팀 내 동생 내 친구 내 식구를 담아놨기에 내 목은\\n이제 안 쉬어 쉬어 크게 숨을 쉬어 이미 난 Man of the year\\n음 Cheers Cheers 저 하늘 위로 렉시 누나처럼 다 일어서 yeah\\n\\n오늘은 눈 좀 붙이고 쉬어\\n굳어진 몸을 풀어\\n차가운 목걸이가 조여\\n숨이 잘 안 쉬어지잖아\\n꿈꾸러 가자 좀 쉬어 쉬어\\n\\nPop like Beatles 시대의 시를 노래하지\\n내 전생은 이름 모르는 꽃일 거야\\n향기를 뿌리지\\n리스너들의 암술을 찾아내고 넌 꽂힐 거야\\n쉬어가지 말란 뭣 같은 말에 혹 하지 마\\n다 똑같이 말해 또 거짓말 뻔하지\\n콩깍질 껴야만 논하지 평판\\n난 결관 몰라 평가해 과정만\\n쉬어 같이 all night long\\n빨랑 빨랑 모여봐 여기 폴라로이드\\n찰칵 찰칵 거리지 모두 명장면\\n살짝 살짝 설렜어 like an OH MY GIRL\\n쉬어, 직역하면 심호흡\\n거북이는 비웃어 쉼표의 미덕\\n개미들의 피로와 베짱이의 빈곤을\\n비교하자면 난 기타를 집어\\n우린 환상이라면 MBTI가 닿지 않는 곳 그 이상을 봐\\n나는 기다리지\\n당신의 애인과 다신 안 올 긴 Field trip\\n천천히 해 모두가 급해\\n우린 꿈들 그 언저리에서\\n도전해보며 생을 보내자고\\n왜 모델이 런웨이를 겁내는 건데\\n건배\\n\\n오늘은 눈 좀 붙이고 쉬어\\n굳어진 몸을 풀어\\n차가운 목걸이가 조여\\n숨이 잘 안 쉬어지잖아\\n꿈꾸러 가자 좀 쉬어 쉬어\\n\\n쉼표, 찍게 해 줘\\n이름표와 나의 ego\\n그 사이에 많은 허들\\n넘어 다니기엔 지쳐\\n오늘은 눈 붙여\\n조금만 쉬어\\n숨을 들이 마셔\\n조금만 쉬어\\n더보기'"
      ]
     },
     "execution_count": 174,
     "metadata": {},
     "output_type": "execute_result"
    }
   ],
   "source": [
    "data = soup.select('div.song_info > div')\n",
    "\n",
    "words = data[0].text.replace('작사', '').strip()\n",
    "music = data[1].text.replace('작곡', '').strip()\n",
    "arranger = data[2].text.replace('편곡', '').strip()\n",
    "\n",
    "lyrics = soup.select('div.section_lyrics')[0].text[2:]\n",
    "\n",
    "lyrics     "
   ]
  },
  {
   "cell_type": "code",
   "execution_count": 156,
   "id": "a0229b9e",
   "metadata": {},
   "outputs": [
    {
     "data": {
      "text/plain": [
       "()"
      ]
     },
     "execution_count": 156,
     "metadata": {},
     "output_type": "execute_result"
    }
   ],
   "source": [
    "sql = 'update song set album = %s, releaseDate = %s, genre = %s, music = %s, words = %s, arranger = %s, lyrics = %s where idx = %s'\n",
    "val = (album, releaseDate, genre, music,\n",
    "       words, arranger, lyrics, idx)\n",
    "cursors.execute(sql, val)\n",
    "\n",
    "conn.commit()\n",
    "cursors.fetchall()"
   ]
  },
  {
   "cell_type": "code",
   "execution_count": 158,
   "id": "30777f0c",
   "metadata": {},
   "outputs": [
    {
     "data": {
      "text/plain": [
       "((262,\n",
       "  'https://image.bugsm.co.kr/album/images/50/204305/20430595.jpg?version=20211109004233.0',\n",
       "  '쉬어 (Feat. MINO) (Prod. GRAY)',\n",
       "  'MINO(송민호)',\n",
       "  'Formula of Love: O+T=<3',\n",
       "  '2021.11.12.',\n",
       "  '댄스(국내)',\n",
       "  'GRAY (그레이), MINO (송민호), DAX, TREVOR',\n",
       "  \"MINO (송민호), 아넌딜라이트(Anandelight), unofficialboyy, BE'O(비오), 지구인, Mudd the student\",\n",
       "  'GRAY (그레이), DAX, TREVOR',\n",
       "  '가사오늘은 눈 좀 붙이고 쉬어\\n굳어진 몸을 풀어\\n차가운 목걸이가 조여\\n숨이 잘 안 쉬어지잖아\\n꿈꾸러 가자 좀 쉬어 쉬어\\n\\n집 앞 공사판 숨을 쉬어\\n밤이 되면 맘의 눈을 떠\\n관중들이 내는 환호성\\n보이지 않지만 꿈을 꿨어 yeah\\n어린 나는 이제 춤을 춰\\n2014의 불확실함에\\n벌벌 떨던 꼬마에게 말을 거네 yeah\\n\"숨을 쉬어\"\\n숨을 들이쉬고 내쉬고를 반복\\n다시 넘어지더라도 일어나길 반복\\n결국 끝에 가선 푸른 풀밭이 날 반겨\\n쉴 만한 물가에서 비파와 수금으로 반격 yeah\\n이제 그냥 켜 봐라 TV\\n마술사 아닌데 NOW YOU SEE ME\\n거기서 외칠 말은 단 하나\\n다른 거 없다 마, 다만 하나님의 사랑\\n그저 편히 쉬어 너와 나의 mood\\n소리 높여서 숨을 내쉬어\\nJust one more time\\n한 번 더 준비 I\\'m ready\\n숨을 크게 들이쉬고 나서\\nLet it burn Let it burn\\nI\\'mma show you how I did it\\nY\\'all get it?\\n\\n난 못 쉬어서 한숨 쉬어\\n한숨 쉬어 가려 나온 게 show\\n많은 게 쉬워져 버려 아쉬워\\n대체 우리 언제 시원한 공기 마셔\\n1 for the show 2 for the money not her\\n8 mile 속의 에미넴이 말했어\\n기회는 한번 쥐어진 microphone\\nYo 첫 마디에 D.O.G we on it\\n나 서울로 다시 올라왔어 그때 그 건방진 녀석\\n언제 이리 컸어 관심 없어서 잘 몰랐어\\nSo who that unofficialboyy 봤어\\n이수린 that\\'s my name wassup\\nWassup 나왔어 방송 why 돈 벌러 왔어\\n다시 돌아왔어 돌고 돌고 돌아서\\n다시 돌아왔어 돌고 돌고 돌아\\n그물, 덫, 발사대기, 포획하러 show\\nShow me the money, ackermann\\n또다시 돌아왔어 벌게 내비 둬 그냥 sure\\n\\n오늘은 눈 좀 붙이고 쉬어\\n굳어진 몸을 풀어\\n차가운 목걸이가 조여\\n숨이 잘 안 쉬어지잖아\\n꿈꾸러 가자 좀 쉬어 쉬어\\n\\n2000 slash\\n필요 없어 나만이 내 빽\\n그때 지하방의 제 목소리의 값어친\\n좀 있음 곧 돈이 됩니다 아버지\\nHa 물음표\\n사람들은 이제 와서 내게 물어 또\\n그냥 아버지의 코골이가 구슬퍼\\n숨통 틔워주려 수천수만 번 죽였던\\n나의 스무 살에 하는 CPR\\nClick, Pow, Revival 숨 쉬어\\n두 번째 삶의 첫 타이틀곡은\\n아이러니하게 \"쉬어\"\\n비워 나를 이제 미워하긴 너무나도 싫어\\nYeah I believe\\nYeah now, so I believe\\n내가 너도 깨워줄게\\n너가 모르게 쓰러진 너를 위해\\nClap 숨 쉬어, 숨 쉬어\\nyeah 내일의 내 일은 내일의 내가 데이게 해\\n채이고 베이던, 베이고 패이든 재생\\n패배의 냄새는 매캐해 매연의 백배야 baby\\n밝았던 눈, 밝았던 move, 가졌던 그\\n시절의 You 불러 일루 와\\n이제 그 쓰레기들을 다 모아\\n놓고 피우던 담배를 그 위에 투하\\n\\n쉬는 것도 일, 일은 걍 일\\n잠드는 것도 내겐 다 일\\n눈 뜨고 있기 피곤하지\\n숨만 쉬어도 돈이 들어가니\\n그 돈을 위해 난 지금도 못 쉬어\\n커피가 내 포션 음음\\n내 무한도전\\n종방연은 멀었지\\n15년째 꾸준하게 넘고 있는 이 허들은 여전히 견고하지만\\n까진 무릎에도 내 비전은 새롭게 내 빽은 1만 시간\\n동기들은 내게 말해 쟤는 출퇴근 안 해 나보다 자유롭지\\n넌 몰라 그 자유로움의 무게가 얼마인지\\n내 가벼운 톤에 걸맞지 않는 내 책임감 장남의 고뇌\\n내 팀 내 동생 내 친구 내 식구를 담아놨기에 내 목은\\n이제 안 쉬어 쉬어 크게 숨을 쉬어 이미 난 Man of the year\\n음 Cheers Cheers 저 하늘 위로 렉시 누나처럼 다 일어서 yeah\\n\\n오늘은 눈 좀 붙이고 쉬어\\n굳어진 몸을 풀어\\n차가운 목걸이가 조여\\n숨이 잘 안 쉬어지잖아\\n꿈꾸러 가자 좀 쉬어 쉬어\\n\\nPop like Beatles 시대의 시를 노래하지\\n내 전생은 이름 모르는 꽃일 거야\\n향기를 뿌리지\\n리스너들의 암술을 찾아내고 넌 꽂힐 거야\\n쉬어가지 말란 뭣 같은 말에 혹 하지 마\\n다 똑같이 말해 또 거짓말 뻔하지\\n콩깍질 껴야만 논하지 평판\\n난 결관 몰라 평가해 과정만\\n쉬어 같이 all night long\\n빨랑 빨랑 모여봐 여기 폴라로이드\\n찰칵 찰칵 거리지 모두 명장면\\n살짝 살짝 설렜어 like an OH MY GIRL\\n쉬어, 직역하면 심호흡\\n거북이는 비웃어 쉼표의 미덕\\n개미들의 피로와 베짱이의 빈곤을\\n비교하자면 난 기타를 집어\\n우린 환상이라면 MBTI가 닿지 않는 곳 그 이상을 봐\\n나는 기다리지\\n당신의 애인과 다신 안 올 긴 Field trip\\n천천히 해 모두가 급해\\n우린 꿈들 그 언저리에서\\n도전해보며 생을 보내자고\\n왜 모델이 런웨이를 겁내는 건데\\n건배\\n\\n오늘은 눈 좀 붙이고 쉬어\\n굳어진 몸을 풀어\\n차가운 목걸이가 조여\\n숨이 잘 안 쉬어지잖아\\n꿈꾸러 가자 좀 쉬어 쉬어\\n\\n쉼표, 찍게 해 줘\\n이름표와 나의 ego\\n그 사이에 많은 허들\\n넘어 다니기엔 지쳐\\n오늘은 눈 붙여\\n조금만 쉬어\\n숨을 들이 마셔\\n조금만 쉬어\\n더보기',\n",
       "  0,\n",
       "  None),)"
      ]
     },
     "execution_count": 158,
     "metadata": {},
     "output_type": "execute_result"
    }
   ],
   "source": [
    "sql = 'select * from song where idx = %s'\n",
    "cursors.execute(sql, idx)\n",
    "cursors.fetchall()"
   ]
  }
 ],
 "metadata": {
  "kernelspec": {
   "display_name": "Python 3",
   "language": "python",
   "name": "python3"
  },
  "language_info": {
   "codemirror_mode": {
    "name": "ipython",
    "version": 3
   },
   "file_extension": ".py",
   "mimetype": "text/x-python",
   "name": "python",
   "nbconvert_exporter": "python",
   "pygments_lexer": "ipython3",
   "version": "3.8.8"
  }
 },
 "nbformat": 4,
 "nbformat_minor": 5
}
