{
 "cells": [
  {
   "cell_type": "code",
   "execution_count": 1,
   "metadata": {},
   "outputs": [],
   "source": [
    "from bs4 import BeautifulSoup as bs\n",
    "from selenium import webdriver\n",
    "from pytube import YouTube\n",
    "import os\n",
    "import re\n"
   ]
  },
  {
   "cell_type": "code",
   "execution_count": 2,
   "metadata": {},
   "outputs": [],
   "source": [
    "driver = webdriver.Chrome('./95/chromedriver.exe')\n",
    "title = '푸르른 계절도 내겐 의미 없어요'\n",
    "artist = '정승환'\n",
    "keyword = '{} {} official audio, short'.format(title, artist)\n",
    "url = 'https://www.youtube.com/results?search_query=' + keyword\n",
    "driver.get(url)\n",
    "soup = bs(driver.page_source, 'html.parser')\n",
    "html = soup.select('a#video-title')[0]\n",
    "video_url = 'https://www.youtube.com' + html.get('href')\n",
    "yt = YouTube(video_url)"
   ]
  },
  {
   "cell_type": "code",
   "execution_count": 9,
   "metadata": {},
   "outputs": [
    {
     "data": {
      "text/plain": [
       "289"
      ]
     },
     "execution_count": 9,
     "metadata": {},
     "output_type": "execute_result"
    }
   ],
   "source": [
    "yt.length"
   ]
  },
  {
   "cell_type": "code",
   "execution_count": 3,
   "metadata": {},
   "outputs": [
    {
     "name": "stdout",
     "output_type": "stream",
     "text": [
      "https://www.youtube.com/watch?v=wT9Qqunzx3I\n"
     ]
    }
   ],
   "source": [
    "driver = webdriver.Chrome('./95/chromedriver.exe')\n",
    "keyword = '{} {} official audio, short '.format('잠들지 않는 별', '벤')\n",
    "url = 'https://www.youtube.com/results?search_query=' + keyword\n",
    "\n",
    "driver.get(url)\n",
    "soup = bs(driver.page_source, 'html.parser')\n",
    "if soup.select('a#video-title') == []:\n",
    "    pass\n",
    "index = 0\n",
    "while True :\n",
    "    html = soup.select('a#video-title')[index]\n",
    "    video_url = 'https://www.youtube.com' + html.get('href')\n",
    "    if YouTube(video_url).length > 600 : index += 1\n",
    "    else : break\n",
    "\n",
    "print(video_url)\n"
   ]
  }
 ],
 "metadata": {
  "interpreter": {
   "hash": "b3ba2566441a7c06988d0923437866b63cedc61552a5af99d1f4fb67d367b25f"
  },
  "kernelspec": {
   "display_name": "Python 3.8.8 64-bit ('base': conda)",
   "language": "python",
   "name": "python3"
  },
  "language_info": {
   "codemirror_mode": {
    "name": "ipython",
    "version": 3
   },
   "file_extension": ".py",
   "mimetype": "text/x-python",
   "name": "python",
   "nbconvert_exporter": "python",
   "pygments_lexer": "ipython3",
   "version": "3.8.8"
  },
  "orig_nbformat": 4
 },
 "nbformat": 4,
 "nbformat_minor": 2
}
